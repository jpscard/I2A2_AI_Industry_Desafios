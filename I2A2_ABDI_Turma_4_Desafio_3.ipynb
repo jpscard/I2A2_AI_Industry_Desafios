{
  "metadata": {
    "kernelspec": {
      "language": "python",
      "display_name": "Python 3",
      "name": "python3"
    },
    "language_info": {
      "pygments_lexer": "ipython3",
      "nbconvert_exporter": "python",
      "version": "3.6.4",
      "file_extension": ".py",
      "codemirror_mode": {
        "name": "ipython",
        "version": 3
      },
      "name": "python",
      "mimetype": "text/x-python"
    },
    "kaggle": {
      "accelerator": "gpu",
      "dataSources": [
        {
          "sourceId": 9999,
          "databundleVersionId": 868225,
          "sourceType": "competition"
        }
      ],
      "dockerImageVersionId": 335,
      "isInternetEnabled": true,
      "language": "python",
      "sourceType": "notebook",
      "isGpuEnabled": true
    },
    "colab": {
      "provenance": [],
      "include_colab_link": true
    }
  },
  "nbformat_minor": 0,
  "nbformat": 4,
  "cells": [
    {
      "cell_type": "markdown",
      "metadata": {
        "id": "view-in-github",
        "colab_type": "text"
      },
      "source": [
        "<a href=\"https://colab.research.google.com/github/jpscard/I2A2_AI_Industry_Desafios/blob/main/I2A2_ABDI_Turma_4_Desafio_3.ipynb\" target=\"_parent\"><img src=\"https://colab.research.google.com/assets/colab-badge.svg\" alt=\"Open In Colab\"/></a>"
      ]
    },
    {
      "cell_type": "markdown",
      "source": [
        "## *I2A2-ABDI - Turma 4 - Desafio 3*\n",
        "### *Aluno:João Paulo da Silva Cardoso*"
      ],
      "metadata": {
        "id": "Y2WmPNeSXemb"
      }
    },
    {
      "cell_type": "markdown",
      "source": [
        "##**Enunciado do desafio**\n",
        "\n",
        "O Desafio de Previsão de Demanda de Itens de Loja no Kaggle envolve prever dados de vendas futuras para 10 lojas diferentes e 50 itens. O objetivo desta competição é prever 3 meses de dados de vendas em nível de item em diferentes locais de loja.\n",
        "\n",
        "**A tarefa é:**\n",
        "\n",
        "Tomando como base a framework CRISP-DM:a. Fazer a análise exploratória dos dados\n",
        "b. Realizar a criação dos modelos para predizer as vendas das lojas/produtos e datas conforme constante no arquivo test.csv\n",
        "c. Preparar e submeter o arquivo “submission.csv”, utilizando a opção “late submission”.\n",
        "\n",
        "O Estudo deve seguir a metodologia CRISP-DS, descrevendo as etapas realizadas. Ao final, coloquem também seus comentários. Como sempre, a entrega é obrigatória e vocês tem até o dia 05/06 às 23h59."
      ],
      "metadata": {
        "id": "c1IYIobkXemc"
      }
    },
    {
      "cell_type": "markdown",
      "source": [
        "### 0. Integração com o Kaggle"
      ],
      "metadata": {
        "id": "_1dlPhQ6YJyz"
      }
    },
    {
      "source": [
        "# IMPORTANT: RUN THIS CELL IN ORDER TO IMPORT YOUR KAGGLE DATA SOURCES\n",
        "# TO THE CORRECT LOCATION (/kaggle/input) IN YOUR NOTEBOOK,\n",
        "# THEN FEEL FREE TO DELETE THIS CELL.\n",
        "# NOTE: THIS NOTEBOOK ENVIRONMENT DIFFERS FROM KAGGLE'S PYTHON\n",
        "# ENVIRONMENT SO THERE MAY BE MISSING LIBRARIES USED BY YOUR\n",
        "# NOTEBOOK.\n",
        "\n",
        "import os\n",
        "import sys\n",
        "from tempfile import NamedTemporaryFile\n",
        "from urllib.request import urlopen\n",
        "from urllib.parse import unquote, urlparse\n",
        "from urllib.error import HTTPError\n",
        "from zipfile import ZipFile\n",
        "import tarfile\n",
        "import shutil\n",
        "\n",
        "CHUNK_SIZE = 40960\n",
        "DATA_SOURCE_MAPPING = ':https%3A%2F%2Fstorage.googleapis.com%2Fkaggle-competitions-data%2Fkaggle-v2%2F9999%2F868225%2Fbundle%2Farchive.zip%3FX-Goog-Algorithm%3DGOOG4-RSA-SHA256%26X-Goog-Credential%3Dgcp-kaggle-com%2540kaggle-161607.iam.gserviceaccount.com%252F20240606%252Fauto%252Fstorage%252Fgoog4_request%26X-Goog-Date%3D20240606T022354Z%26X-Goog-Expires%3D259200%26X-Goog-SignedHeaders%3Dhost%26X-Goog-Signature%3D6292424383944ba8636c169fe5cce20adc237185de3aa60ec9e1b00a254e7a6c3b5fc7a384802af95039c576b7e3158211a590f68e77d619206ff70417f974745dae5debb199438bb01ff58dd1787a63c20800b14d1147f5be6571a6bf9129ad9b1ba4c7ae6b479b220d88b730b244945c1d4d7ee8e67201cdeab01bad25b0b4351b496ad4582d6c30bb70efb1c13b5bc1f006d01adf03b2709d53e298655d76014a9940dcb92ea19ec90ae1ff39aa41dc0a7363fe7d631582bd0633e8f304b0eacda24cff6e0c8b498fc29c0444027945dd7ba8772b966165ec78a04c536953f152aac3ec376c65dcb754a29dc541b1af7b877f496ec8088439d6a02e793af0'\n",
        "\n",
        "KAGGLE_INPUT_PATH='/kaggle/input'\n",
        "KAGGLE_WORKING_PATH='/kaggle/working'\n",
        "KAGGLE_SYMLINK='kaggle'\n",
        "\n",
        "!umount /kaggle/input/ 2> /dev/null\n",
        "shutil.rmtree('/kaggle/input', ignore_errors=True)\n",
        "os.makedirs(KAGGLE_INPUT_PATH, 0o777, exist_ok=True)\n",
        "os.makedirs(KAGGLE_WORKING_PATH, 0o777, exist_ok=True)\n",
        "\n",
        "try:\n",
        "  os.symlink(KAGGLE_INPUT_PATH, os.path.join(\"..\", 'input'), target_is_directory=True)\n",
        "except FileExistsError:\n",
        "  pass\n",
        "try:\n",
        "  os.symlink(KAGGLE_WORKING_PATH, os.path.join(\"..\", 'working'), target_is_directory=True)\n",
        "except FileExistsError:\n",
        "  pass\n",
        "\n",
        "for data_source_mapping in DATA_SOURCE_MAPPING.split(','):\n",
        "    directory, download_url_encoded = data_source_mapping.split(':')\n",
        "    download_url = unquote(download_url_encoded)\n",
        "    filename = urlparse(download_url).path\n",
        "    destination_path = os.path.join(KAGGLE_INPUT_PATH, directory)\n",
        "    try:\n",
        "        with urlopen(download_url) as fileres, NamedTemporaryFile() as tfile:\n",
        "            total_length = fileres.headers['content-length']\n",
        "            print(f'Downloading {directory}, {total_length} bytes compressed')\n",
        "            dl = 0\n",
        "            data = fileres.read(CHUNK_SIZE)\n",
        "            while len(data) > 0:\n",
        "                dl += len(data)\n",
        "                tfile.write(data)\n",
        "                done = int(50 * dl / int(total_length))\n",
        "                sys.stdout.write(f\"\\r[{'=' * done}{' ' * (50-done)}] {dl} bytes downloaded\")\n",
        "                sys.stdout.flush()\n",
        "                data = fileres.read(CHUNK_SIZE)\n",
        "            if filename.endswith('.zip'):\n",
        "              with ZipFile(tfile) as zfile:\n",
        "                zfile.extractall(destination_path)\n",
        "            else:\n",
        "              with tarfile.open(tfile.name) as tarfile:\n",
        "                tarfile.extractall(destination_path)\n",
        "            print(f'\\nDownloaded and uncompressed: {directory}')\n",
        "    except HTTPError as e:\n",
        "        print(f'Failed to load (likely expired) {download_url} to path {destination_path}')\n",
        "        continue\n",
        "    except OSError as e:\n",
        "        print(f'Failed to load {download_url} to path {destination_path}')\n",
        "        continue\n",
        "\n",
        "print('Data source import complete.')"
      ],
      "metadata": {
        "id": "cPYysuNzXemZ",
        "outputId": "df5e4cab-8551-4073-a245-03ea795ab4d6",
        "colab": {
          "base_uri": "https://localhost:8080/"
        }
      },
      "cell_type": "code",
      "outputs": [
        {
          "output_type": "stream",
          "name": "stdout",
          "text": [
            "Downloading , 3454726 bytes compressed\n",
            "[==================================================] 3454726 bytes downloaded\n",
            "Downloaded and uncompressed: \n",
            "Data source import complete.\n"
          ]
        }
      ],
      "execution_count": null
    },
    {
      "cell_type": "markdown",
      "source": [
        "### 1. Entendimento do Negócio"
      ],
      "metadata": {
        "id": "27noDsgzXemc"
      }
    },
    {
      "cell_type": "markdown",
      "source": [
        "O problema envolve a previsão de vendas futuras para 10 lojas e 50 itens ao longo de vários anos. O objetivo é prever a demanda diária para cada combinação de loja e item."
      ],
      "metadata": {
        "id": "KZZlqEAmXemc"
      }
    },
    {
      "cell_type": "markdown",
      "source": [
        "### 2. Entendimento dos dados"
      ],
      "metadata": {
        "id": "s0Cj0LjHXemc"
      }
    },
    {
      "cell_type": "markdown",
      "source": [
        "**Descrição do Conjunto de Dados**\n",
        "\n",
        "O objetivo desta competição é prever 3 meses de dados de vendas de itens em diferentes localizações de lojas.\n",
        "\n",
        "**Descrição dos Arquivos**\n",
        "- **train.csv**: Dados de treinamento\n",
        "- **test.csv**: Dados de teste (Observação: a divisão Público/Privado é baseada no tempo)\n",
        "- **sample_submission.csv**: um arquivo de submissão de exemplo no formato correto\n",
        "\n",
        "**Campos de Dados**\n",
        "- **date**: Data dos dados de venda. Não há efeitos de feriado ou fechamentos de loja.\n",
        "- **store**: ID da loja\n",
        "- **item**: ID do item\n",
        "- **sales**: Número de itens vendidos em uma loja em uma data específica."
      ],
      "metadata": {
        "id": "to3Mj-_-Xemd"
      }
    },
    {
      "cell_type": "markdown",
      "source": [
        "### 3. Preparação dos Dados"
      ],
      "metadata": {
        "id": "I9LcKqEIXemd"
      }
    },
    {
      "cell_type": "code",
      "source": [
        "# This Python 3 environment comes with many helpful analytics libraries installed\n",
        "# It is defined by the kaggle/python docker image: https://github.com/kaggle/docker-python\n",
        "# For example, here's several helpful packages to load in\n",
        "\n",
        "import time\n",
        "import datetime\n",
        "import pandas as pd\n",
        "import numpy as np\n",
        "import xgboost as xgb\n",
        "from sklearn.model_selection import train_test_split\n",
        "from sklearn.metrics import mean_absolute_error\n",
        "from sklearn.ensemble import RandomForestRegressor, GradientBoostingRegressor, AdaBoostRegressor\n",
        "from xgboost import XGBRegressor\n",
        "from sklearn.neural_network import MLPRegressor\n",
        "import lightgbm as lgb\n",
        "from sklearn.metrics import mean_squared_error, r2_score  # Importa as métricas MSE e R² da biblioteca scikit-learn\n",
        "\n",
        "# Input data files are available in the \"../input/\" directory.\n",
        "# For example, running this (by clicking run or pressing Shift+Enter) will list the files in the input directory\n",
        "\n",
        "import os\n",
        "print(os.listdir(\"../input\"))\n",
        "\n",
        "# Any results you write to the current directory are saved as output."
      ],
      "metadata": {
        "_uuid": "8f2839f25d086af736a60e9eeb907d3b93b6e0e5",
        "_cell_guid": "b1076dfc-b9ad-4769-8c92-a6c4dae69d19",
        "execution": {
          "iopub.status.busy": "2024-06-06T01:57:10.732727Z",
          "iopub.execute_input": "2024-06-06T01:57:10.73311Z",
          "iopub.status.idle": "2024-06-06T01:57:10.752029Z",
          "shell.execute_reply.started": "2024-06-06T01:57:10.733041Z",
          "shell.execute_reply": "2024-06-06T01:57:10.751059Z"
        },
        "trusted": true,
        "id": "BBipA5RjXemd",
        "outputId": "c550ec5d-15dd-4720-9a3e-0aebf6434daa",
        "colab": {
          "base_uri": "https://localhost:8080/"
        }
      },
      "execution_count": null,
      "outputs": [
        {
          "output_type": "stream",
          "name": "stdout",
          "text": [
            "['sample_submission.csv', 'test.csv', 'train.csv']\n"
          ]
        }
      ]
    },
    {
      "cell_type": "code",
      "source": [
        "import pandas as pd  # Importa a biblioteca pandas e a renomeia como pd\n",
        "\n",
        "# Lê o arquivo 'train.csv' e armazena os dados em um DataFrame chamado 'data'\n",
        "data = pd.read_csv('../input/train.csv')\n",
        "\n",
        "# Lê o arquivo 'test.csv', define a coluna 'id' como índice e armazena os dados em um DataFrame chamado 'test_data'\n",
        "test_data = pd.read_csv('../input/test.csv', index_col='id')\n",
        "\n",
        "# Imprime o valor mínimo e máximo da coluna 'sales' no DataFrame 'data'\n",
        "print(data['sales'].min(), data['sales'].max())"
      ],
      "metadata": {
        "_cell_guid": "79c7e3d0-c299-4dcb-8224-4455121ee9b0",
        "_uuid": "d629ff2d2480ee46fbb7e2d37f6b5fab8052498a",
        "execution": {
          "iopub.status.busy": "2024-06-06T01:57:10.753175Z",
          "iopub.execute_input": "2024-06-06T01:57:10.753488Z",
          "iopub.status.idle": "2024-06-06T01:57:11.227255Z",
          "shell.execute_reply.started": "2024-06-06T01:57:10.753393Z",
          "shell.execute_reply": "2024-06-06T01:57:11.226643Z"
        },
        "trusted": true,
        "id": "Uibb5-FBXemd",
        "outputId": "c0a8a376-8ccf-4868-e0c1-36aec8621d3d",
        "colab": {
          "base_uri": "https://localhost:8080/"
        }
      },
      "execution_count": null,
      "outputs": [
        {
          "output_type": "stream",
          "name": "stdout",
          "text": [
            "0 231\n"
          ]
        }
      ]
    },
    {
      "cell_type": "code",
      "source": [
        "# Convertendo a coluna 'date' para o tipo datetime no DataFrame 'data'\n",
        "data['date'] = pd.to_datetime(data['date'])\n",
        "\n",
        "# Convertendo a coluna 'date' para o tipo datetime no DataFrame 'test_data'\n",
        "test_data['date'] = pd.to_datetime(test_data['date'])\n",
        "\n",
        "# Criando uma nova coluna 'month' no DataFrame 'data' para armazenar o mês da data\n",
        "data['month'] = data['date'].dt.month\n",
        "\n",
        "# Criando uma nova coluna 'day' no DataFrame 'data' para armazenar o dia da semana da data (0 para segunda-feira, 6 para domingo)\n",
        "data['day'] = data['date'].dt.dayofweek\n",
        "\n",
        "# Criando uma nova coluna 'year' no DataFrame 'data' para armazenar o ano da data\n",
        "data['year'] = data['date'].dt.year\n",
        "\n",
        "# Criando uma nova coluna 'month' no DataFrame 'test_data' para armazenar o mês da data\n",
        "test_data['month'] = test_data['date'].dt.month\n",
        "\n",
        "# Criando uma nova coluna 'day' no DataFrame 'test_data' para armazenar o dia da semana da data (0 para segunda-feira, 6 para domingo)\n",
        "test_data['day'] = test_data['date'].dt.dayofweek\n",
        "\n",
        "# Criando uma nova coluna 'year' no DataFrame 'test_data' para armazenar o ano da data\n",
        "test_data['year'] = test_data['date'].dt.year\n"
      ],
      "metadata": {
        "_uuid": "b5a287944427772ce0a9d19e725ed0221b0a7ef7",
        "execution": {
          "iopub.status.busy": "2024-06-06T01:57:11.228572Z",
          "iopub.execute_input": "2024-06-06T01:57:11.228819Z",
          "iopub.status.idle": "2024-06-06T01:57:11.764891Z",
          "shell.execute_reply.started": "2024-06-06T01:57:11.228775Z",
          "shell.execute_reply": "2024-06-06T01:57:11.764264Z"
        },
        "trusted": true,
        "id": "CZpGJBPQXeme"
      },
      "execution_count": null,
      "outputs": []
    },
    {
      "cell_type": "code",
      "source": [
        "# Lista das colunas a serem usadas como variáveis independentes\n",
        "x_columns = ['store', 'item', 'month', 'day', 'year']\n",
        "\n",
        "# Selecionando as colunas especificadas como variáveis independentes e armazenando em X\n",
        "X = data[x_columns]\n",
        "\n",
        "# Selecionando a coluna na posição 3 (presumivelmente a coluna 'sales') como variável dependente e armazenando em Y\n",
        "Y = data.iloc[:, 3]"
      ],
      "metadata": {
        "_uuid": "1ef47d36313831b6dda9968b15db98432f5b6f8c",
        "execution": {
          "iopub.status.busy": "2024-06-06T01:57:11.766195Z",
          "iopub.execute_input": "2024-06-06T01:57:11.766502Z",
          "iopub.status.idle": "2024-06-06T01:57:11.853803Z",
          "shell.execute_reply.started": "2024-06-06T01:57:11.76645Z",
          "shell.execute_reply": "2024-06-06T01:57:11.853233Z"
        },
        "trusted": true,
        "id": "jiGcI1h1Xeme"
      },
      "execution_count": null,
      "outputs": []
    },
    {
      "cell_type": "code",
      "source": [
        "# Dividindo os conjuntos de dados X e Y em conjuntos de treinamento e teste\n",
        "# O parâmetro test_size=.2 especifica que 20% dos dados serão usados para teste\n",
        "# Os conjuntos de treinamento e teste são atribuídos a train_X, test_X, train_Y e test_Y, respectivamente\n",
        "train_X, test_X, train_Y, test_Y = train_test_split(X, Y, test_size=.2)"
      ],
      "metadata": {
        "_uuid": "89eaf89174f709986370d070a14ffeac3d978611",
        "execution": {
          "iopub.status.busy": "2024-06-06T01:57:11.855261Z",
          "iopub.execute_input": "2024-06-06T01:57:11.855589Z",
          "iopub.status.idle": "2024-06-06T01:57:12.026965Z",
          "shell.execute_reply.started": "2024-06-06T01:57:11.855522Z",
          "shell.execute_reply": "2024-06-06T01:57:12.026367Z"
        },
        "trusted": true,
        "id": "AuX4b2AcXeme"
      },
      "execution_count": null,
      "outputs": []
    },
    {
      "cell_type": "markdown",
      "source": [
        "### 4. Modelagem"
      ],
      "metadata": {
        "id": "e9KV63sKXeme"
      }
    },
    {
      "cell_type": "code",
      "source": [
        "# Lista de chaves (nomes dos regressores)\n",
        "key = ['RandomForestRegressor', 'XGBRegressor', 'LightGBM']\n",
        "\n",
        "# Lista de valores (os regressores instanciados com o parâmetro random_state=51)\n",
        "value = [RandomForestRegressor(random_state=51), XGBRegressor(random_state=51), lgb.LGBMRegressor(random_state=51)]\n",
        "\n",
        "# Cria um dicionário onde as chaves são os nomes dos regressores e os valores são os regressores instanciados\n",
        "models = dict(zip(key, value))"
      ],
      "metadata": {
        "execution": {
          "iopub.status.busy": "2024-06-06T01:57:12.0359Z",
          "iopub.execute_input": "2024-06-06T01:57:12.036204Z",
          "iopub.status.idle": "2024-06-06T01:57:12.048814Z",
          "shell.execute_reply.started": "2024-06-06T01:57:12.036137Z",
          "shell.execute_reply": "2024-06-06T01:57:12.04821Z"
        },
        "trusted": true,
        "id": "jpCOhi06Xeme"
      },
      "execution_count": null,
      "outputs": []
    },
    {
      "cell_type": "code",
      "source": [
        "# Lista vazia para armazenar o MSE, RMSE e R²\n",
        "mse1 = []\n",
        "rmse1 = []\n",
        "r21 = []\n",
        "\n",
        "# Loop sobre os modelos no dicionário models\n",
        "for name, algo in models.items():\n",
        "    model = algo\n",
        "    model.fit(train_X, train_Y)  # Treina o modelo com os dados de treinamento\n",
        "    predict = model.predict(test_X)  # Faz previsões com o modelo nos dados de teste\n",
        "    mse = mean_squared_error(test_Y, predict)  # Calcula o MSE\n",
        "    mse1.append(mse)  # Armazena o MSE na lista mse1\n",
        "    rmse = np.sqrt(mean_squared_error(test_Y, predict))  # Calcula o RMSE\n",
        "    rmse1.append(rmse)  # Armazena o RMSE na lista rmse1\n",
        "    r2 = r2_score(test_Y, predict)  # Calcula o R²\n",
        "    r21.append(r2)  # Armazena o R² na lista r21\n",
        "    print(name, '\\t', mse, '\\t', rmse, '\\t', r2)  # Imprime os resultados\n",
        "\n",
        "# Cria um dicionário com os resultados\n",
        "result = {\n",
        "    'Model': key,\n",
        "    'Mean Square Error': mse1,\n",
        "    'Root Mean Square Error': rmse1,\n",
        "    'R-Squared': r21\n",
        "}\n",
        "\n",
        "# Cria um DataFrame com os resultados\n",
        "model_results = pd.DataFrame(result)"
      ],
      "metadata": {
        "execution": {
          "iopub.status.busy": "2024-06-06T01:57:12.050275Z",
          "iopub.execute_input": "2024-06-06T01:57:12.05062Z",
          "iopub.status.idle": "2024-06-06T01:57:58.402221Z",
          "shell.execute_reply.started": "2024-06-06T01:57:12.050555Z",
          "shell.execute_reply": "2024-06-06T01:57:58.401534Z"
        },
        "trusted": true,
        "id": "31lHzFg0Xeme",
        "outputId": "db52596f-03fa-4c14-a748-48bb22caadf6",
        "colab": {
          "base_uri": "https://localhost:8080/"
        }
      },
      "execution_count": null,
      "outputs": [
        {
          "output_type": "stream",
          "name": "stdout",
          "text": [
            "RandomForestRegressor \t 69.05883900168013 \t 8.310164799911018 \t 0.9162091998521393\n",
            "XGBRegressor \t 58.37433536623514 \t 7.640309899882015 \t 0.9291729727990734\n",
            "[LightGBM] [Info] Auto-choosing row-wise multi-threading, the overhead of testing was 0.013364 seconds.\n",
            "You can set `force_row_wise=true` to remove the overhead.\n",
            "And if memory is not enough, you can set `force_col_wise=true`.\n",
            "[LightGBM] [Info] Total Bins 88\n",
            "[LightGBM] [Info] Number of data points in the train set: 730400, number of used features: 5\n",
            "[LightGBM] [Info] Start training from score 52.271495\n",
            "LightGBM \t 68.48692242556314 \t 8.275682595747806 \t 0.9169031204019693\n"
          ]
        }
      ]
    },
    {
      "cell_type": "markdown",
      "source": [
        "### 5. Avaliação"
      ],
      "metadata": {
        "id": "SvlSLSPyXemf"
      }
    },
    {
      "cell_type": "code",
      "source": [
        "# Classificação dos resultados com base no Root Mean Square Error (RMSE) em ordem crescente\n",
        "model_results.sort_values('Root Mean Square Error', ascending=True)"
      ],
      "metadata": {
        "execution": {
          "iopub.status.busy": "2024-06-06T01:57:58.404156Z",
          "iopub.execute_input": "2024-06-06T01:57:58.404475Z",
          "iopub.status.idle": "2024-06-06T01:57:58.41686Z",
          "shell.execute_reply.started": "2024-06-06T01:57:58.404415Z",
          "shell.execute_reply": "2024-06-06T01:57:58.416131Z"
        },
        "trusted": true,
        "id": "ZKiElEVfXemf",
        "outputId": "4a337572-88c2-4b3c-9506-5e8d8cb1f0d3",
        "colab": {
          "base_uri": "https://localhost:8080/",
          "height": 143
        }
      },
      "execution_count": null,
      "outputs": [
        {
          "output_type": "execute_result",
          "data": {
            "text/plain": [
              "                   Model  Mean Square Error  Root Mean Square Error  R-Squared\n",
              "1           XGBRegressor          58.374335                7.640310   0.929173\n",
              "2               LightGBM          68.486922                8.275683   0.916903\n",
              "0  RandomForestRegressor          69.058839                8.310165   0.916209"
            ],
            "text/html": [
              "\n",
              "  <div id=\"df-5121ce63-c058-4889-b54b-095a0c277e6d\" class=\"colab-df-container\">\n",
              "    <div>\n",
              "<style scoped>\n",
              "    .dataframe tbody tr th:only-of-type {\n",
              "        vertical-align: middle;\n",
              "    }\n",
              "\n",
              "    .dataframe tbody tr th {\n",
              "        vertical-align: top;\n",
              "    }\n",
              "\n",
              "    .dataframe thead th {\n",
              "        text-align: right;\n",
              "    }\n",
              "</style>\n",
              "<table border=\"1\" class=\"dataframe\">\n",
              "  <thead>\n",
              "    <tr style=\"text-align: right;\">\n",
              "      <th></th>\n",
              "      <th>Model</th>\n",
              "      <th>Mean Square Error</th>\n",
              "      <th>Root Mean Square Error</th>\n",
              "      <th>R-Squared</th>\n",
              "    </tr>\n",
              "  </thead>\n",
              "  <tbody>\n",
              "    <tr>\n",
              "      <th>1</th>\n",
              "      <td>XGBRegressor</td>\n",
              "      <td>58.374335</td>\n",
              "      <td>7.640310</td>\n",
              "      <td>0.929173</td>\n",
              "    </tr>\n",
              "    <tr>\n",
              "      <th>2</th>\n",
              "      <td>LightGBM</td>\n",
              "      <td>68.486922</td>\n",
              "      <td>8.275683</td>\n",
              "      <td>0.916903</td>\n",
              "    </tr>\n",
              "    <tr>\n",
              "      <th>0</th>\n",
              "      <td>RandomForestRegressor</td>\n",
              "      <td>69.058839</td>\n",
              "      <td>8.310165</td>\n",
              "      <td>0.916209</td>\n",
              "    </tr>\n",
              "  </tbody>\n",
              "</table>\n",
              "</div>\n",
              "    <div class=\"colab-df-buttons\">\n",
              "\n",
              "  <div class=\"colab-df-container\">\n",
              "    <button class=\"colab-df-convert\" onclick=\"convertToInteractive('df-5121ce63-c058-4889-b54b-095a0c277e6d')\"\n",
              "            title=\"Convert this dataframe to an interactive table.\"\n",
              "            style=\"display:none;\">\n",
              "\n",
              "  <svg xmlns=\"http://www.w3.org/2000/svg\" height=\"24px\" viewBox=\"0 -960 960 960\">\n",
              "    <path d=\"M120-120v-720h720v720H120Zm60-500h600v-160H180v160Zm220 220h160v-160H400v160Zm0 220h160v-160H400v160ZM180-400h160v-160H180v160Zm440 0h160v-160H620v160ZM180-180h160v-160H180v160Zm440 0h160v-160H620v160Z\"/>\n",
              "  </svg>\n",
              "    </button>\n",
              "\n",
              "  <style>\n",
              "    .colab-df-container {\n",
              "      display:flex;\n",
              "      gap: 12px;\n",
              "    }\n",
              "\n",
              "    .colab-df-convert {\n",
              "      background-color: #E8F0FE;\n",
              "      border: none;\n",
              "      border-radius: 50%;\n",
              "      cursor: pointer;\n",
              "      display: none;\n",
              "      fill: #1967D2;\n",
              "      height: 32px;\n",
              "      padding: 0 0 0 0;\n",
              "      width: 32px;\n",
              "    }\n",
              "\n",
              "    .colab-df-convert:hover {\n",
              "      background-color: #E2EBFA;\n",
              "      box-shadow: 0px 1px 2px rgba(60, 64, 67, 0.3), 0px 1px 3px 1px rgba(60, 64, 67, 0.15);\n",
              "      fill: #174EA6;\n",
              "    }\n",
              "\n",
              "    .colab-df-buttons div {\n",
              "      margin-bottom: 4px;\n",
              "    }\n",
              "\n",
              "    [theme=dark] .colab-df-convert {\n",
              "      background-color: #3B4455;\n",
              "      fill: #D2E3FC;\n",
              "    }\n",
              "\n",
              "    [theme=dark] .colab-df-convert:hover {\n",
              "      background-color: #434B5C;\n",
              "      box-shadow: 0px 1px 3px 1px rgba(0, 0, 0, 0.15);\n",
              "      filter: drop-shadow(0px 1px 2px rgba(0, 0, 0, 0.3));\n",
              "      fill: #FFFFFF;\n",
              "    }\n",
              "  </style>\n",
              "\n",
              "    <script>\n",
              "      const buttonEl =\n",
              "        document.querySelector('#df-5121ce63-c058-4889-b54b-095a0c277e6d button.colab-df-convert');\n",
              "      buttonEl.style.display =\n",
              "        google.colab.kernel.accessAllowed ? 'block' : 'none';\n",
              "\n",
              "      async function convertToInteractive(key) {\n",
              "        const element = document.querySelector('#df-5121ce63-c058-4889-b54b-095a0c277e6d');\n",
              "        const dataTable =\n",
              "          await google.colab.kernel.invokeFunction('convertToInteractive',\n",
              "                                                    [key], {});\n",
              "        if (!dataTable) return;\n",
              "\n",
              "        const docLinkHtml = 'Like what you see? Visit the ' +\n",
              "          '<a target=\"_blank\" href=https://colab.research.google.com/notebooks/data_table.ipynb>data table notebook</a>'\n",
              "          + ' to learn more about interactive tables.';\n",
              "        element.innerHTML = '';\n",
              "        dataTable['output_type'] = 'display_data';\n",
              "        await google.colab.output.renderOutput(dataTable, element);\n",
              "        const docLink = document.createElement('div');\n",
              "        docLink.innerHTML = docLinkHtml;\n",
              "        element.appendChild(docLink);\n",
              "      }\n",
              "    </script>\n",
              "  </div>\n",
              "\n",
              "\n",
              "<div id=\"df-ac5b4533-eb27-466a-9b4e-17be01521730\">\n",
              "  <button class=\"colab-df-quickchart\" onclick=\"quickchart('df-ac5b4533-eb27-466a-9b4e-17be01521730')\"\n",
              "            title=\"Suggest charts\"\n",
              "            style=\"display:none;\">\n",
              "\n",
              "<svg xmlns=\"http://www.w3.org/2000/svg\" height=\"24px\"viewBox=\"0 0 24 24\"\n",
              "     width=\"24px\">\n",
              "    <g>\n",
              "        <path d=\"M19 3H5c-1.1 0-2 .9-2 2v14c0 1.1.9 2 2 2h14c1.1 0 2-.9 2-2V5c0-1.1-.9-2-2-2zM9 17H7v-7h2v7zm4 0h-2V7h2v10zm4 0h-2v-4h2v4z\"/>\n",
              "    </g>\n",
              "</svg>\n",
              "  </button>\n",
              "\n",
              "<style>\n",
              "  .colab-df-quickchart {\n",
              "      --bg-color: #E8F0FE;\n",
              "      --fill-color: #1967D2;\n",
              "      --hover-bg-color: #E2EBFA;\n",
              "      --hover-fill-color: #174EA6;\n",
              "      --disabled-fill-color: #AAA;\n",
              "      --disabled-bg-color: #DDD;\n",
              "  }\n",
              "\n",
              "  [theme=dark] .colab-df-quickchart {\n",
              "      --bg-color: #3B4455;\n",
              "      --fill-color: #D2E3FC;\n",
              "      --hover-bg-color: #434B5C;\n",
              "      --hover-fill-color: #FFFFFF;\n",
              "      --disabled-bg-color: #3B4455;\n",
              "      --disabled-fill-color: #666;\n",
              "  }\n",
              "\n",
              "  .colab-df-quickchart {\n",
              "    background-color: var(--bg-color);\n",
              "    border: none;\n",
              "    border-radius: 50%;\n",
              "    cursor: pointer;\n",
              "    display: none;\n",
              "    fill: var(--fill-color);\n",
              "    height: 32px;\n",
              "    padding: 0;\n",
              "    width: 32px;\n",
              "  }\n",
              "\n",
              "  .colab-df-quickchart:hover {\n",
              "    background-color: var(--hover-bg-color);\n",
              "    box-shadow: 0 1px 2px rgba(60, 64, 67, 0.3), 0 1px 3px 1px rgba(60, 64, 67, 0.15);\n",
              "    fill: var(--button-hover-fill-color);\n",
              "  }\n",
              "\n",
              "  .colab-df-quickchart-complete:disabled,\n",
              "  .colab-df-quickchart-complete:disabled:hover {\n",
              "    background-color: var(--disabled-bg-color);\n",
              "    fill: var(--disabled-fill-color);\n",
              "    box-shadow: none;\n",
              "  }\n",
              "\n",
              "  .colab-df-spinner {\n",
              "    border: 2px solid var(--fill-color);\n",
              "    border-color: transparent;\n",
              "    border-bottom-color: var(--fill-color);\n",
              "    animation:\n",
              "      spin 1s steps(1) infinite;\n",
              "  }\n",
              "\n",
              "  @keyframes spin {\n",
              "    0% {\n",
              "      border-color: transparent;\n",
              "      border-bottom-color: var(--fill-color);\n",
              "      border-left-color: var(--fill-color);\n",
              "    }\n",
              "    20% {\n",
              "      border-color: transparent;\n",
              "      border-left-color: var(--fill-color);\n",
              "      border-top-color: var(--fill-color);\n",
              "    }\n",
              "    30% {\n",
              "      border-color: transparent;\n",
              "      border-left-color: var(--fill-color);\n",
              "      border-top-color: var(--fill-color);\n",
              "      border-right-color: var(--fill-color);\n",
              "    }\n",
              "    40% {\n",
              "      border-color: transparent;\n",
              "      border-right-color: var(--fill-color);\n",
              "      border-top-color: var(--fill-color);\n",
              "    }\n",
              "    60% {\n",
              "      border-color: transparent;\n",
              "      border-right-color: var(--fill-color);\n",
              "    }\n",
              "    80% {\n",
              "      border-color: transparent;\n",
              "      border-right-color: var(--fill-color);\n",
              "      border-bottom-color: var(--fill-color);\n",
              "    }\n",
              "    90% {\n",
              "      border-color: transparent;\n",
              "      border-bottom-color: var(--fill-color);\n",
              "    }\n",
              "  }\n",
              "</style>\n",
              "\n",
              "  <script>\n",
              "    async function quickchart(key) {\n",
              "      const quickchartButtonEl =\n",
              "        document.querySelector('#' + key + ' button');\n",
              "      quickchartButtonEl.disabled = true;  // To prevent multiple clicks.\n",
              "      quickchartButtonEl.classList.add('colab-df-spinner');\n",
              "      try {\n",
              "        const charts = await google.colab.kernel.invokeFunction(\n",
              "            'suggestCharts', [key], {});\n",
              "      } catch (error) {\n",
              "        console.error('Error during call to suggestCharts:', error);\n",
              "      }\n",
              "      quickchartButtonEl.classList.remove('colab-df-spinner');\n",
              "      quickchartButtonEl.classList.add('colab-df-quickchart-complete');\n",
              "    }\n",
              "    (() => {\n",
              "      let quickchartButtonEl =\n",
              "        document.querySelector('#df-ac5b4533-eb27-466a-9b4e-17be01521730 button');\n",
              "      quickchartButtonEl.style.display =\n",
              "        google.colab.kernel.accessAllowed ? 'block' : 'none';\n",
              "    })();\n",
              "  </script>\n",
              "</div>\n",
              "\n",
              "    </div>\n",
              "  </div>\n"
            ],
            "application/vnd.google.colaboratory.intrinsic+json": {
              "type": "dataframe",
              "summary": "{\n  \"name\": \"model_results\",\n  \"rows\": 3,\n  \"fields\": [\n    {\n      \"column\": \"Model\",\n      \"properties\": {\n        \"dtype\": \"string\",\n        \"num_unique_values\": 3,\n        \"samples\": [\n          \"XGBRegressor\",\n          \"LightGBM\",\n          \"RandomForestRegressor\"\n        ],\n        \"semantic_type\": \"\",\n        \"description\": \"\"\n      }\n    },\n    {\n      \"column\": \"Mean Square Error\",\n      \"properties\": {\n        \"dtype\": \"number\",\n        \"std\": 6.0104093529249,\n        \"min\": 58.37433536623514,\n        \"max\": 69.05883900168013,\n        \"num_unique_values\": 3,\n        \"samples\": [\n          58.37433536623514,\n          68.48692242556314,\n          69.05883900168013\n        ],\n        \"semantic_type\": \"\",\n        \"description\": \"\"\n      }\n    },\n    {\n      \"column\": \"Root Mean Square Error\",\n      \"properties\": {\n        \"dtype\": \"number\",\n        \"std\": 0.37718100697776863,\n        \"min\": 7.640309899882015,\n        \"max\": 8.310164799911018,\n        \"num_unique_values\": 3,\n        \"samples\": [\n          7.640309899882015,\n          8.275682595747806,\n          8.310164799911018\n        ],\n        \"semantic_type\": \"\",\n        \"description\": \"\"\n      }\n    },\n    {\n      \"column\": \"R-Squared\",\n      \"properties\": {\n        \"dtype\": \"number\",\n        \"std\": 0.007292578563122206,\n        \"min\": 0.9162091998521393,\n        \"max\": 0.9291729727990734,\n        \"num_unique_values\": 3,\n        \"samples\": [\n          0.9291729727990734,\n          0.9169031204019693,\n          0.9162091998521393\n        ],\n        \"semantic_type\": \"\",\n        \"description\": \"\"\n      }\n    }\n  ]\n}"
            }
          },
          "metadata": {},
          "execution_count": 10
        }
      ]
    }
  ]
}