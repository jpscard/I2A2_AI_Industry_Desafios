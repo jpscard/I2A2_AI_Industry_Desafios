{
  "nbformat": 4,
  "nbformat_minor": 0,
  "metadata": {
    "colab": {
      "provenance": [],
      "include_colab_link": true
    },
    "kernelspec": {
      "name": "python3",
      "display_name": "Python 3"
    },
    "language_info": {
      "name": "python"
    },
    "gpuClass": "standard",
    "accelerator": "GPU"
  },
  "cells": [
    {
      "cell_type": "markdown",
      "metadata": {
        "id": "view-in-github",
        "colab_type": "text"
      },
      "source": [
        "<a href=\"https://colab.research.google.com/github/jpscard/I2A2_AI_Industry_Desafios/blob/main/Python_Aula_1.ipynb\" target=\"_parent\"><img src=\"https://colab.research.google.com/assets/colab-badge.svg\" alt=\"Open In Colab\"/></a>"
      ]
    },
    {
      "cell_type": "markdown",
      "source": [
        "# Python - Aula 1"
      ],
      "metadata": {
        "id": "DEBb3Vs90gan"
      }
    },
    {
      "cell_type": "markdown",
      "source": [
        "#### Montando o Drive do google para acessar nossos arquivos "
      ],
      "metadata": {
        "id": "p-F46-qe3jb5"
      }
    },
    {
      "cell_type": "code",
      "source": [
        "from google.colab import files\n",
        "from google.colab import drive\n",
        "from google.colab import auth\n",
        "from IPython.display import Image\n",
        "\n",
        "drive.mount('/content/drive/')"
      ],
      "metadata": {
        "colab": {
          "base_uri": "https://localhost:8080/"
        },
        "id": "S_xj1_zCeWGV",
        "outputId": "39bc5433-3cc7-4bd7-d497-5c2ca11b6d2d"
      },
      "execution_count": null,
      "outputs": [
        {
          "output_type": "stream",
          "name": "stdout",
          "text": [
            "Mounted at /content/drive/\n"
          ]
        }
      ]
    },
    {
      "cell_type": "code",
      "source": [
        "# Lista os elementos dentro do diretório. \n",
        "!ls drive/MyDrive/i2a2/dataset/\n",
        "\n",
        "# Aqui temos 3 elementos:\n",
        "\n",
        "# ! -> Informa ao notebook que estamos rodando um comando.\n",
        "# ls -> comando que lista os itens (arquivos/diretorios) em uma pasta.\n",
        "# 'caminho' -> pasta que queremos listar"
      ],
      "metadata": {
        "colab": {
          "base_uri": "https://localhost:8080/"
        },
        "id": "Ttwf21lEemFr",
        "outputId": "3d03b06d-992c-4b86-c1d1-cdf32da5b511"
      },
      "execution_count": null,
      "outputs": [
        {
          "output_type": "stream",
          "name": "stdout",
          "text": [
            "image_2_insert_listas.png  indice_lista.png  indice_string.png\n"
          ]
        }
      ]
    },
    {
      "cell_type": "markdown",
      "source": [
        "Upload de arquivos"
      ],
      "metadata": {
        "id": "9tol7-RVpzPj"
      }
    },
    {
      "cell_type": "code",
      "source": [
        "uploaded = files.upload()"
      ],
      "metadata": {
        "colab": {
          "base_uri": "https://localhost:8080/",
          "height": 73
        },
        "id": "dM0GOFnSp19m",
        "outputId": "b4064329-a2b5-4831-d1c3-56633953005b"
      },
      "execution_count": null,
      "outputs": [
        {
          "output_type": "display_data",
          "data": {
            "text/plain": [
              "<IPython.core.display.HTML object>"
            ],
            "text/html": [
              "\n",
              "     <input type=\"file\" id=\"files-488cd4c3-77fd-43a3-b112-2a255613a2d5\" name=\"files[]\" multiple disabled\n",
              "        style=\"border:none\" />\n",
              "     <output id=\"result-488cd4c3-77fd-43a3-b112-2a255613a2d5\">\n",
              "      Upload widget is only available when the cell has been executed in the\n",
              "      current browser session. Please rerun this cell to enable.\n",
              "      </output>\n",
              "      <script>// Copyright 2017 Google LLC\n",
              "//\n",
              "// Licensed under the Apache License, Version 2.0 (the \"License\");\n",
              "// you may not use this file except in compliance with the License.\n",
              "// You may obtain a copy of the License at\n",
              "//\n",
              "//      http://www.apache.org/licenses/LICENSE-2.0\n",
              "//\n",
              "// Unless required by applicable law or agreed to in writing, software\n",
              "// distributed under the License is distributed on an \"AS IS\" BASIS,\n",
              "// WITHOUT WARRANTIES OR CONDITIONS OF ANY KIND, either express or implied.\n",
              "// See the License for the specific language governing permissions and\n",
              "// limitations under the License.\n",
              "\n",
              "/**\n",
              " * @fileoverview Helpers for google.colab Python module.\n",
              " */\n",
              "(function(scope) {\n",
              "function span(text, styleAttributes = {}) {\n",
              "  const element = document.createElement('span');\n",
              "  element.textContent = text;\n",
              "  for (const key of Object.keys(styleAttributes)) {\n",
              "    element.style[key] = styleAttributes[key];\n",
              "  }\n",
              "  return element;\n",
              "}\n",
              "\n",
              "// Max number of bytes which will be uploaded at a time.\n",
              "const MAX_PAYLOAD_SIZE = 100 * 1024;\n",
              "\n",
              "function _uploadFiles(inputId, outputId) {\n",
              "  const steps = uploadFilesStep(inputId, outputId);\n",
              "  const outputElement = document.getElementById(outputId);\n",
              "  // Cache steps on the outputElement to make it available for the next call\n",
              "  // to uploadFilesContinue from Python.\n",
              "  outputElement.steps = steps;\n",
              "\n",
              "  return _uploadFilesContinue(outputId);\n",
              "}\n",
              "\n",
              "// This is roughly an async generator (not supported in the browser yet),\n",
              "// where there are multiple asynchronous steps and the Python side is going\n",
              "// to poll for completion of each step.\n",
              "// This uses a Promise to block the python side on completion of each step,\n",
              "// then passes the result of the previous step as the input to the next step.\n",
              "function _uploadFilesContinue(outputId) {\n",
              "  const outputElement = document.getElementById(outputId);\n",
              "  const steps = outputElement.steps;\n",
              "\n",
              "  const next = steps.next(outputElement.lastPromiseValue);\n",
              "  return Promise.resolve(next.value.promise).then((value) => {\n",
              "    // Cache the last promise value to make it available to the next\n",
              "    // step of the generator.\n",
              "    outputElement.lastPromiseValue = value;\n",
              "    return next.value.response;\n",
              "  });\n",
              "}\n",
              "\n",
              "/**\n",
              " * Generator function which is called between each async step of the upload\n",
              " * process.\n",
              " * @param {string} inputId Element ID of the input file picker element.\n",
              " * @param {string} outputId Element ID of the output display.\n",
              " * @return {!Iterable<!Object>} Iterable of next steps.\n",
              " */\n",
              "function* uploadFilesStep(inputId, outputId) {\n",
              "  const inputElement = document.getElementById(inputId);\n",
              "  inputElement.disabled = false;\n",
              "\n",
              "  const outputElement = document.getElementById(outputId);\n",
              "  outputElement.innerHTML = '';\n",
              "\n",
              "  const pickedPromise = new Promise((resolve) => {\n",
              "    inputElement.addEventListener('change', (e) => {\n",
              "      resolve(e.target.files);\n",
              "    });\n",
              "  });\n",
              "\n",
              "  const cancel = document.createElement('button');\n",
              "  inputElement.parentElement.appendChild(cancel);\n",
              "  cancel.textContent = 'Cancel upload';\n",
              "  const cancelPromise = new Promise((resolve) => {\n",
              "    cancel.onclick = () => {\n",
              "      resolve(null);\n",
              "    };\n",
              "  });\n",
              "\n",
              "  // Wait for the user to pick the files.\n",
              "  const files = yield {\n",
              "    promise: Promise.race([pickedPromise, cancelPromise]),\n",
              "    response: {\n",
              "      action: 'starting',\n",
              "    }\n",
              "  };\n",
              "\n",
              "  cancel.remove();\n",
              "\n",
              "  // Disable the input element since further picks are not allowed.\n",
              "  inputElement.disabled = true;\n",
              "\n",
              "  if (!files) {\n",
              "    return {\n",
              "      response: {\n",
              "        action: 'complete',\n",
              "      }\n",
              "    };\n",
              "  }\n",
              "\n",
              "  for (const file of files) {\n",
              "    const li = document.createElement('li');\n",
              "    li.append(span(file.name, {fontWeight: 'bold'}));\n",
              "    li.append(span(\n",
              "        `(${file.type || 'n/a'}) - ${file.size} bytes, ` +\n",
              "        `last modified: ${\n",
              "            file.lastModifiedDate ? file.lastModifiedDate.toLocaleDateString() :\n",
              "                                    'n/a'} - `));\n",
              "    const percent = span('0% done');\n",
              "    li.appendChild(percent);\n",
              "\n",
              "    outputElement.appendChild(li);\n",
              "\n",
              "    const fileDataPromise = new Promise((resolve) => {\n",
              "      const reader = new FileReader();\n",
              "      reader.onload = (e) => {\n",
              "        resolve(e.target.result);\n",
              "      };\n",
              "      reader.readAsArrayBuffer(file);\n",
              "    });\n",
              "    // Wait for the data to be ready.\n",
              "    let fileData = yield {\n",
              "      promise: fileDataPromise,\n",
              "      response: {\n",
              "        action: 'continue',\n",
              "      }\n",
              "    };\n",
              "\n",
              "    // Use a chunked sending to avoid message size limits. See b/62115660.\n",
              "    let position = 0;\n",
              "    do {\n",
              "      const length = Math.min(fileData.byteLength - position, MAX_PAYLOAD_SIZE);\n",
              "      const chunk = new Uint8Array(fileData, position, length);\n",
              "      position += length;\n",
              "\n",
              "      const base64 = btoa(String.fromCharCode.apply(null, chunk));\n",
              "      yield {\n",
              "        response: {\n",
              "          action: 'append',\n",
              "          file: file.name,\n",
              "          data: base64,\n",
              "        },\n",
              "      };\n",
              "\n",
              "      let percentDone = fileData.byteLength === 0 ?\n",
              "          100 :\n",
              "          Math.round((position / fileData.byteLength) * 100);\n",
              "      percent.textContent = `${percentDone}% done`;\n",
              "\n",
              "    } while (position < fileData.byteLength);\n",
              "  }\n",
              "\n",
              "  // All done.\n",
              "  yield {\n",
              "    response: {\n",
              "      action: 'complete',\n",
              "    }\n",
              "  };\n",
              "}\n",
              "\n",
              "scope.google = scope.google || {};\n",
              "scope.google.colab = scope.google.colab || {};\n",
              "scope.google.colab._files = {\n",
              "  _uploadFiles,\n",
              "  _uploadFilesContinue,\n",
              "};\n",
              "})(self);\n",
              "</script> "
            ]
          },
          "metadata": {}
        },
        {
          "output_type": "stream",
          "name": "stdout",
          "text": [
            "Saving Hotel Reservations.csv to Hotel Reservations.csv\n"
          ]
        }
      ]
    },
    {
      "cell_type": "markdown",
      "source": [
        "# Variáveis"
      ],
      "metadata": {
        "id": "DhOMHzOynDJJ"
      }
    },
    {
      "cell_type": "markdown",
      "source": [
        "Variáveis são elementos que armazenam uma informação para que possamos utiliza-la em nosso código posteriormente.\n",
        "\n",
        "Tipos de variáveis no Python:\n",
        "\n",
        "* Inteiro (int)\n",
        "* Ponto Flutuante ou Decimal (float)\n",
        "* Tipo Complexo (complex)\n",
        "* String (str)\n",
        "* Boolean (bool)\n",
        "* List (list)\n",
        "* Tuple\n",
        "* Dictionary (dic)"
      ],
      "metadata": {
        "id": "cDdQ5U8Z5FLo"
      }
    },
    {
      "cell_type": "markdown",
      "source": [
        "Definindo uma variável."
      ],
      "metadata": {
        "id": "o6XDjXcV5kRJ"
      }
    },
    {
      "cell_type": "code",
      "source": [
        "aluno = 'Diego'"
      ],
      "metadata": {
        "id": "k-IBYGhM5olb"
      },
      "execution_count": null,
      "outputs": []
    },
    {
      "cell_type": "code",
      "source": [
        "print(aluno)"
      ],
      "metadata": {
        "colab": {
          "base_uri": "https://localhost:8080/"
        },
        "id": "X2gNbWhn6ggR",
        "outputId": "a685cf57-477e-4e2b-f56e-6ba6dc1cf85c"
      },
      "execution_count": null,
      "outputs": [
        {
          "output_type": "stream",
          "name": "stdout",
          "text": [
            "Diego\n"
          ]
        }
      ]
    },
    {
      "cell_type": "code",
      "source": [
        "idade = 15"
      ],
      "metadata": {
        "id": "6gg6yMzO6r-a"
      },
      "execution_count": null,
      "outputs": []
    },
    {
      "cell_type": "code",
      "source": [
        "print(idade)"
      ],
      "metadata": {
        "colab": {
          "base_uri": "https://localhost:8080/"
        },
        "id": "oBUh3zmk608P",
        "outputId": "07f22c43-def7-489f-b07e-a7e7ca458397"
      },
      "execution_count": null,
      "outputs": [
        {
          "output_type": "stream",
          "name": "stdout",
          "text": [
            "15\n"
          ]
        }
      ]
    },
    {
      "cell_type": "code",
      "source": [
        "print(f'O nome do aluno é {aluno} e ele tem {idade} anos')"
      ],
      "metadata": {
        "colab": {
          "base_uri": "https://localhost:8080/"
        },
        "id": "j_0fOwW362st",
        "outputId": "7706cc98-1b71-436a-ebe2-70952375bd21"
      },
      "execution_count": null,
      "outputs": [
        {
          "output_type": "stream",
          "name": "stdout",
          "text": [
            "O nome do aluno é Diego e ele tem 15 anos\n"
          ]
        }
      ]
    },
    {
      "cell_type": "markdown",
      "source": [
        "No Python as variaveis são dinamicamente tipadas, ou seja, podemos mudar o tipo do dado contido em uma variável durante a execução do código."
      ],
      "metadata": {
        "id": "b6H9sOgf7rW3"
      }
    },
    {
      "cell_type": "code",
      "source": [
        "aluno = 'Diego'\n",
        "print(type(aluno))\n",
        "aluno = 15\n",
        "print(type(aluno))\n",
        "aluno = 7.4\n",
        "print(type(aluno))"
      ],
      "metadata": {
        "colab": {
          "base_uri": "https://localhost:8080/"
        },
        "id": "RCbjXz2R8Cly",
        "outputId": "9d64f627-27d2-4ede-d886-643ed3398636"
      },
      "execution_count": null,
      "outputs": [
        {
          "output_type": "stream",
          "name": "stdout",
          "text": [
            "<class 'str'>\n",
            "<class 'int'>\n",
            "<class 'float'>\n"
          ]
        }
      ]
    },
    {
      "cell_type": "markdown",
      "source": [
        "## *Booleano* (bool)\n",
        "\n",
        "A variável é um operador boleano (verdadeiro/falso)(1/0)"
      ],
      "metadata": {
        "id": "Stkpl4cTAbFZ"
      }
    },
    {
      "cell_type": "code",
      "source": [
        "matriculado = True"
      ],
      "metadata": {
        "id": "UFisSyGl8GTo"
      },
      "execution_count": null,
      "outputs": []
    },
    {
      "cell_type": "code",
      "source": [
        "print(type(matriculado))"
      ],
      "metadata": {
        "colab": {
          "base_uri": "https://localhost:8080/"
        },
        "id": "TBfvPr3MAh0L",
        "outputId": "ab5e3f29-9d2f-48b1-e9ed-a8fc2bbd12a5"
      },
      "execution_count": null,
      "outputs": [
        {
          "output_type": "stream",
          "name": "stdout",
          "text": [
            "<class 'bool'>\n"
          ]
        }
      ]
    },
    {
      "cell_type": "markdown",
      "source": [
        "## Lista (list)\n"
      ],
      "metadata": {
        "id": "tnkiQehCAob-"
      }
    },
    {
      "cell_type": "markdown",
      "source": [
        "No caso das listas, seu nome ja entrega sua funcionalidade. São objetos que armazenam informações na forma de lista. <br />\n",
        "Por mais que esses objetos permitam que você armazene as informações de tipos diferentes em um mesmo objeto, é comum separarmos as informações que colocamos em cada uma."
      ],
      "metadata": {
        "id": "v_e_VFC4kqrt"
      }
    },
    {
      "cell_type": "code",
      "source": [
        "lista_de_alunos = ['Pedro', 'Diego', 'João', 'Celso']"
      ],
      "metadata": {
        "id": "SPuEHB_FAryX"
      },
      "execution_count": null,
      "outputs": []
    },
    {
      "cell_type": "code",
      "source": [
        "print(lista_de_alunos)"
      ],
      "metadata": {
        "colab": {
          "base_uri": "https://localhost:8080/"
        },
        "id": "jl7Ul9G8D4Ho",
        "outputId": "6fd65980-fbff-4839-eb76-5bffec643ae4"
      },
      "execution_count": null,
      "outputs": [
        {
          "output_type": "stream",
          "name": "stdout",
          "text": [
            "['Pedro', 'Diego', 'João', 'Celso']\n"
          ]
        }
      ]
    },
    {
      "cell_type": "code",
      "source": [
        "print(type(lista_de_alunos))"
      ],
      "metadata": {
        "colab": {
          "base_uri": "https://localhost:8080/"
        },
        "id": "dy1KLkPLBftU",
        "outputId": "26ac8d2a-a519-401e-a300-87b04744eb06"
      },
      "execution_count": null,
      "outputs": [
        {
          "output_type": "stream",
          "name": "stdout",
          "text": [
            "<class 'list'>\n"
          ]
        }
      ]
    },
    {
      "cell_type": "code",
      "source": [
        "# Não é o ideal mas funciona.\n",
        "lista_teste = [\"Celso\", 45, \"Av. Independência\"]"
      ],
      "metadata": {
        "id": "P0HKOWef8eLf"
      },
      "execution_count": null,
      "outputs": []
    },
    {
      "cell_type": "code",
      "source": [
        "lista_teste"
      ],
      "metadata": {
        "colab": {
          "base_uri": "https://localhost:8080/"
        },
        "id": "zmW29t6w8m-G",
        "outputId": "6880e5da-9c01-4fe8-d114-210e46f155ac"
      },
      "execution_count": null,
      "outputs": [
        {
          "output_type": "execute_result",
          "data": {
            "text/plain": [
              "['Celso', 45, 'Av. Independência']"
            ]
          },
          "metadata": {},
          "execution_count": 17
        }
      ]
    },
    {
      "cell_type": "markdown",
      "source": [
        "Acessando os item em uma lista:"
      ],
      "metadata": {
        "id": "PDXNSl2yBk_9"
      }
    },
    {
      "cell_type": "markdown",
      "source": [
        "Quando criamos uma lista, os itens são posicionados seguindo um indice que é criado pelo proprio Python. Esse índice sempre irá seguir a ordem em que os itens foram inseridos."
      ],
      "metadata": {
        "id": "Z2bmyxa-T_-r"
      }
    },
    {
      "cell_type": "code",
      "source": [
        "Image('drive/MyDrive/i2a2/imagens/indice_lista.png', width=500)"
      ],
      "metadata": {
        "colab": {
          "base_uri": "https://localhost:8080/",
          "height": 98
        },
        "id": "VMdF9qkhyA0n",
        "outputId": "016d27d5-85aa-43be-fe4b-5733b53d174c"
      },
      "execution_count": null,
      "outputs": [
        {
          "output_type": "execute_result",
          "data": {
            "image/png": "[encoded data removed]",
            "text/plain": [
              "<IPython.core.display.Image object>"
            ]
          },
          "metadata": {
            "image/png": {
              "width": 500
            }
          },
          "execution_count": 19
        }
      ]
    },
    {
      "cell_type": "markdown",
      "source": [
        "Podemos utilizar esses indices para acessarmos os valores armazenados na lista."
      ],
      "metadata": {
        "id": "v90RWdYNUgGo"
      }
    },
    {
      "cell_type": "code",
      "source": [
        "lista_de_alunos[0] "
      ],
      "metadata": {
        "colab": {
          "base_uri": "https://localhost:8080/",
          "height": 35
        },
        "id": "XTHZy-5vBoFL",
        "outputId": "a8859993-f3c3-4e84-a5b1-1a2d3c0fc8a8"
      },
      "execution_count": null,
      "outputs": [
        {
          "output_type": "execute_result",
          "data": {
            "text/plain": [
              "'Pedro'"
            ],
            "application/vnd.google.colaboratory.intrinsic+json": {
              "type": "string"
            }
          },
          "metadata": {},
          "execution_count": 23
        }
      ]
    },
    {
      "cell_type": "markdown",
      "source": [
        "Adicionando um item na nossa lista"
      ],
      "metadata": {
        "id": "NSD2fH3FEnOS"
      }
    },
    {
      "cell_type": "code",
      "source": [
        "lista_de_alunos.append('Marcos')"
      ],
      "metadata": {
        "id": "EA8zz6BJEqa9"
      },
      "execution_count": null,
      "outputs": []
    },
    {
      "cell_type": "code",
      "source": [
        "print(lista_de_alunos)"
      ],
      "metadata": {
        "colab": {
          "base_uri": "https://localhost:8080/"
        },
        "id": "nIRpUunrEzK0",
        "outputId": "cf0c962b-d512-4c61-8418-012065d0f672"
      },
      "execution_count": null,
      "outputs": [
        {
          "output_type": "stream",
          "name": "stdout",
          "text": [
            "['Pedro', 'Diego', 'João', 'Celso', 'Marcos']\n"
          ]
        }
      ]
    },
    {
      "cell_type": "code",
      "source": [
        "lista_de_alunos.insert(1, 'Maria')"
      ],
      "metadata": {
        "id": "0jruyDvZE9Nx"
      },
      "execution_count": null,
      "outputs": []
    },
    {
      "cell_type": "code",
      "source": [
        "print(lista_de_alunos)"
      ],
      "metadata": {
        "colab": {
          "base_uri": "https://localhost:8080/"
        },
        "id": "UeU2HJr-FP8U",
        "outputId": "1149d234-12f0-4eac-d096-6ee0d08c0723"
      },
      "execution_count": null,
      "outputs": [
        {
          "output_type": "stream",
          "name": "stdout",
          "text": [
            "['Pedro', 'Maria', 'Diego', 'João', 'Celso', 'Marcos']\n"
          ]
        }
      ]
    },
    {
      "cell_type": "code",
      "source": [
        "Image('drive/MyDrive/i2a2/imagens/image_2_insert_listas.png', width=600)"
      ],
      "metadata": {
        "id": "WzOkOFdmZZ3P",
        "colab": {
          "base_uri": "https://localhost:8080/",
          "height": 415
        },
        "outputId": "72343b0d-3801-4301-bef8-7fc6973ddd1b"
      },
      "execution_count": null,
      "outputs": [
        {
          "output_type": "execute_result",
          "data": {
            "image/png": "[encoded data removed]",
            "text/plain": [
              "<IPython.core.display.Image object>"
            ]
          },
          "metadata": {
            "image/png": {
              "width": 600
            }
          },
          "execution_count": 222
        }
      ]
    },
    {
      "cell_type": "code",
      "source": [
        "lista_de_alunos[2]"
      ],
      "metadata": {
        "colab": {
          "base_uri": "https://localhost:8080/",
          "height": 35
        },
        "id": "U81O0p_P9ySR",
        "outputId": "ebf89d50-3715-40b5-a9d6-cde32bf749fc"
      },
      "execution_count": null,
      "outputs": [
        {
          "output_type": "execute_result",
          "data": {
            "text/plain": [
              "'Diego'"
            ],
            "application/vnd.google.colaboratory.intrinsic+json": {
              "type": "string"
            }
          },
          "metadata": {},
          "execution_count": 29
        }
      ]
    },
    {
      "cell_type": "markdown",
      "source": [
        "## Strings"
      ],
      "metadata": {
        "id": "c6FNbzZfy2Bp"
      }
    },
    {
      "cell_type": "code",
      "source": [
        "aluno = 'Diego.pdf'"
      ],
      "metadata": {
        "id": "W8741zEry3ds"
      },
      "execution_count": null,
      "outputs": []
    },
    {
      "cell_type": "code",
      "source": [
        "print(aluno)"
      ],
      "metadata": {
        "colab": {
          "base_uri": "https://localhost:8080/"
        },
        "id": "AsJNSYe_y5re",
        "outputId": "94e9e8d5-699e-419a-97b4-dc0ecf9588fa"
      },
      "execution_count": null,
      "outputs": [
        {
          "output_type": "stream",
          "name": "stdout",
          "text": [
            "Diego.pdf\n"
          ]
        }
      ]
    },
    {
      "cell_type": "code",
      "source": [
        "Image('drive/MyDrive/i2a2/imagens/indice_string.png', width=420)"
      ],
      "metadata": {
        "colab": {
          "base_uri": "https://localhost:8080/",
          "height": 163
        },
        "id": "cV2ZXoHdzN2G",
        "outputId": "327413a6-c2fd-4bc0-e974-e01d58ff57f5"
      },
      "execution_count": null,
      "outputs": [
        {
          "output_type": "execute_result",
          "data": {
            "image/png": "[encoded data removed]",
            "text/plain": [
              "<IPython.core.display.Image object>"
            ]
          },
          "metadata": {
            "image/png": {
              "width": 420
            }
          },
          "execution_count": 32
        }
      ]
    },
    {
      "cell_type": "code",
      "source": [
        "aluno[0:5]"
      ],
      "metadata": {
        "colab": {
          "base_uri": "https://localhost:8080/",
          "height": 35
        },
        "id": "uzG2_1fAzfpS",
        "outputId": "df6d553b-87c1-4165-a4a5-fd7d83ecc918"
      },
      "execution_count": null,
      "outputs": [
        {
          "output_type": "execute_result",
          "data": {
            "text/plain": [
              "'Diego'"
            ],
            "application/vnd.google.colaboratory.intrinsic+json": {
              "type": "string"
            }
          },
          "metadata": {},
          "execution_count": 37
        }
      ]
    },
    {
      "cell_type": "markdown",
      "source": [
        "Tupla"
      ],
      "metadata": {
        "id": "bWSL434oEUOO"
      }
    },
    {
      "cell_type": "markdown",
      "source": [
        "Tuplas são objetos que possuem uma estrutura semelhante ao de uma lista, porém, possui caracteristicas proprias.<br />\n",
        "<br />\n",
        "\n",
        "O principal ponto que difere as duas é o fato de que as tuplas, após serem criadas, não podem ser alteradas."
      ],
      "metadata": {
        "id": "6v1G6RQk4Pr-"
      }
    },
    {
      "cell_type": "code",
      "source": [
        "type(tupla_aluno)"
      ],
      "metadata": {
        "colab": {
          "base_uri": "https://localhost:8080/"
        },
        "id": "Rdjm3hf95FB0",
        "outputId": "b9b1c8b8-507b-4657-d2e7-5fdd0c93a73c"
      },
      "execution_count": null,
      "outputs": [
        {
          "output_type": "execute_result",
          "data": {
            "text/plain": [
              "tuple"
            ]
          },
          "metadata": {},
          "execution_count": 40
        }
      ]
    },
    {
      "cell_type": "code",
      "source": [
        "print(tupla_aluno[0])"
      ],
      "metadata": {
        "colab": {
          "base_uri": "https://localhost:8080/"
        },
        "id": "KO_Zl_iR5JqY",
        "outputId": "cf22e852-1416-4e57-c6cf-ab3af7118cea"
      },
      "execution_count": null,
      "outputs": [
        {
          "output_type": "stream",
          "name": "stdout",
          "text": [
            "João\n"
          ]
        }
      ]
    },
    {
      "cell_type": "code",
      "source": [
        "tupla_aluno[0] = \"Pedro\""
      ],
      "metadata": {
        "colab": {
          "base_uri": "https://localhost:8080/",
          "height": 166
        },
        "id": "3gxL-Cwk5R4V",
        "outputId": "e771d460-4d5c-49da-8f8e-136935d8a8d0"
      },
      "execution_count": null,
      "outputs": [
        {
          "output_type": "error",
          "ename": "TypeError",
          "evalue": "ignored",
          "traceback": [
            "\u001b[0;31m---------------------------------------------------------------------------\u001b[0m",
            "\u001b[0;31mTypeError\u001b[0m                                 Traceback (most recent call last)",
            "\u001b[0;32m<ipython-input-45-c3d438b99c65>\u001b[0m in \u001b[0;36m<module>\u001b[0;34m\u001b[0m\n\u001b[0;32m----> 1\u001b[0;31m \u001b[0mtupla_aluno\u001b[0m\u001b[0;34m[\u001b[0m\u001b[0;36m0\u001b[0m\u001b[0;34m]\u001b[0m \u001b[0;34m=\u001b[0m \u001b[0;34m\"Pedro\"\u001b[0m\u001b[0;34m\u001b[0m\u001b[0;34m\u001b[0m\u001b[0m\n\u001b[0m",
            "\u001b[0;31mTypeError\u001b[0m: 'tuple' object does not support item assignment"
          ]
        }
      ]
    },
    {
      "cell_type": "markdown",
      "source": [
        "## Tuplas nomeadas"
      ],
      "metadata": {
        "id": "hYZjWuai5ipl"
      }
    },
    {
      "cell_type": "markdown",
      "source": [
        "O significado do conteúdo de uma tupla depende da posição de cada item na sua estrutura. Devido a isso, nem sempre fica claro o que cada item representa uma vez que o objeto é criado e está em uso.<br />\n",
        "<br />\n",
        "\n",
        "Por exemplo:<br />\n",
        "<br />\n",
        "\n",
        "aluno = (nome, nota) --> ('João', 10) <br />\n",
        "aluno = (nome, idade) --> ('João', 10) <br />\n",
        "<br />\n",
        "\n",
        "Consegue ver o problema?<br />"
      ],
      "metadata": {
        "id": "IfiYGFdG6TpN"
      }
    },
    {
      "cell_type": "code",
      "source": [
        "# importamos a biblioteca collections \n",
        "from collections import namedtuple"
      ],
      "metadata": {
        "id": "bwgOYLAs5nOs"
      },
      "execution_count": null,
      "outputs": []
    },
    {
      "cell_type": "code",
      "source": [
        "# criando nossa tupla nomeada\n",
        "Aluno = namedtuple('Aluno', ['nome', 'idade'])"
      ],
      "metadata": {
        "id": "dWBLxL-D5uAp"
      },
      "execution_count": null,
      "outputs": []
    },
    {
      "cell_type": "code",
      "source": [
        "novo_aluno = Aluno(nome='Fábio', idade=16)"
      ],
      "metadata": {
        "id": "LvOZkcO66CHR"
      },
      "execution_count": null,
      "outputs": []
    },
    {
      "cell_type": "code",
      "source": [
        "novo_aluno"
      ],
      "metadata": {
        "colab": {
          "base_uri": "https://localhost:8080/"
        },
        "id": "jlKmHSWG6KbC",
        "outputId": "c47dc6b7-2830-46af-cc27-7b5fb1b7c4e8"
      },
      "execution_count": null,
      "outputs": [
        {
          "output_type": "execute_result",
          "data": {
            "text/plain": [
              "Aluno(nome='Fábio', idade=16)"
            ]
          },
          "metadata": {},
          "execution_count": 52
        }
      ]
    },
    {
      "cell_type": "markdown",
      "source": [
        "## Dicionários"
      ],
      "metadata": {
        "id": "NZxhiWcKBnBL"
      }
    },
    {
      "cell_type": "markdown",
      "source": [
        "Dicionários são estruturas que armazenam informações no formato {key: value}"
      ],
      "metadata": {
        "id": "z-iuqy31CSl9"
      }
    },
    {
      "cell_type": "code",
      "source": [
        "aluno = {\n",
        "    \"nome\": \"Diego\",\n",
        "    \"idade\": 35,\n",
        "    \"nota\": 10\n",
        "}"
      ],
      "metadata": {
        "id": "B-s1yLHBBo4l"
      },
      "execution_count": null,
      "outputs": []
    },
    {
      "cell_type": "code",
      "source": [
        "aluno[\"idade\"]"
      ],
      "metadata": {
        "colab": {
          "base_uri": "https://localhost:8080/"
        },
        "id": "S4SkLviNAOn-",
        "outputId": "c0fe78b7-1c8a-4000-9e67-6a2a634776ae"
      },
      "execution_count": null,
      "outputs": [
        {
          "output_type": "execute_result",
          "data": {
            "text/plain": [
              "35"
            ]
          },
          "metadata": {},
          "execution_count": 57
        }
      ]
    },
    {
      "cell_type": "code",
      "source": [
        "idade_alunos_dict = {\n",
        "    \"diego\": 35,\n",
        "    \"joao\": 27,\n",
        "    \"maria\": 28,\n",
        "    \"pedro\": 19,\n",
        "    \"Godofredo\": 26\n",
        "}"
      ],
      "metadata": {
        "id": "q3kLLLNQrkkD"
      },
      "execution_count": null,
      "outputs": []
    },
    {
      "cell_type": "code",
      "source": [
        "idade_alunos_dict[\"diego\"]"
      ],
      "metadata": {
        "colab": {
          "base_uri": "https://localhost:8080/"
        },
        "id": "4pQ2sFmgrzic",
        "outputId": "03d84de1-e918-4819-9402-42e9486bd3af"
      },
      "execution_count": null,
      "outputs": [
        {
          "output_type": "execute_result",
          "data": {
            "text/plain": [
              "35"
            ]
          },
          "metadata": {},
          "execution_count": 67
        }
      ]
    },
    {
      "cell_type": "code",
      "source": [
        "type(aluno)"
      ],
      "metadata": {
        "colab": {
          "base_uri": "https://localhost:8080/"
        },
        "id": "vNmRMb39orH-",
        "outputId": "febda991-c046-42c0-a769-f95500a7aaf8"
      },
      "execution_count": null,
      "outputs": [
        {
          "output_type": "execute_result",
          "data": {
            "text/plain": [
              "dict"
            ]
          },
          "metadata": {},
          "execution_count": 68
        }
      ]
    },
    {
      "cell_type": "code",
      "source": [
        "# uma lista de dicionários\n",
        "alunos = [\n",
        "    {\n",
        "    \"nome\": \"Diego\",\n",
        "    \"idade\": 35,\n",
        "    \"nota\": 10\n",
        "    },\n",
        "    {\n",
        "    \"nome\": \"João\",\n",
        "    \"idade\": 25,\n",
        "    \"nota\": 9.5\n",
        "    },\n",
        "    {\n",
        "    \"nome\": \"Maria\",\n",
        "    \"idade\": 23,\n",
        "    \"nota\": 10\n",
        "    },\n",
        "]"
      ],
      "metadata": {
        "id": "Iv5k1xpODC_s"
      },
      "execution_count": null,
      "outputs": []
    },
    {
      "cell_type": "code",
      "source": [
        "print(type(alunos))"
      ],
      "metadata": {
        "colab": {
          "base_uri": "https://localhost:8080/"
        },
        "id": "MZcvOwK3FNtU",
        "outputId": "1dfe9a30-15ed-4fca-8004-977ed5ee27dc"
      },
      "execution_count": null,
      "outputs": [
        {
          "output_type": "stream",
          "name": "stdout",
          "text": [
            "<class 'list'>\n"
          ]
        }
      ]
    },
    {
      "cell_type": "markdown",
      "source": [
        "# Input"
      ],
      "metadata": {
        "id": "wNJeFwjknIh_"
      }
    },
    {
      "cell_type": "markdown",
      "source": [
        "O input é uma forma de capturamos um dado fornecido pelo usuário durante a execução do nosso código"
      ],
      "metadata": {
        "id": "210vzFVNAI8A"
      }
    },
    {
      "cell_type": "code",
      "source": [
        "nome = input()"
      ],
      "metadata": {
        "colab": {
          "base_uri": "https://localhost:8080/"
        },
        "id": "3zJmXOvpAVZY",
        "outputId": "281c277f-915e-479e-b785-3cbee612b35b"
      },
      "execution_count": null,
      "outputs": [
        {
          "name": "stdout",
          "output_type": "stream",
          "text": [
            "Diego\n"
          ]
        }
      ]
    },
    {
      "cell_type": "code",
      "source": [
        "print(nome)"
      ],
      "metadata": {
        "colab": {
          "base_uri": "https://localhost:8080/"
        },
        "id": "acekK5XYAH26",
        "outputId": "ef22047c-7da6-4108-dac9-52a8551e7853"
      },
      "execution_count": null,
      "outputs": [
        {
          "output_type": "stream",
          "name": "stdout",
          "text": [
            "Diego\n"
          ]
        }
      ]
    },
    {
      "cell_type": "markdown",
      "source": [
        "# Laços"
      ],
      "metadata": {
        "id": "lr4R0aurnZeE"
      }
    },
    {
      "cell_type": "markdown",
      "source": [
        "Laços são uma maneira de iterarmos sobre os elementos de nossos objetos. Vamos ver alguns casos: <br />\n",
        "<br />"
      ],
      "metadata": {
        "id": "CvG_5WMrGWzW"
      }
    },
    {
      "cell_type": "code",
      "source": [
        "## Iterando sobre a nossa lista de alunos\n",
        "for aluno in alunos:\n",
        "  print(aluno)"
      ],
      "metadata": {
        "colab": {
          "base_uri": "https://localhost:8080/"
        },
        "id": "3JIhCx-NGSRf",
        "outputId": "4e214645-1aea-4a04-8fa4-7d166fab3180"
      },
      "execution_count": null,
      "outputs": [
        {
          "output_type": "stream",
          "name": "stdout",
          "text": [
            "{'nome': 'Diego', 'idade': 35, 'nota': 10}\n",
            "{'nome': 'João', 'idade': 25, 'nota': 9.5}\n",
            "{'nome': 'Maria', 'idade': 23, 'nota': 10}\n"
          ]
        }
      ]
    },
    {
      "cell_type": "code",
      "source": [
        "# Verificando a média das notas dos alunos\n",
        "soma_notas = 0\n",
        "for aluno in alunos:\n",
        "  soma_notas += aluno[\"nota\"]\n",
        "\n",
        "# média = soma(notas)/alunos\n",
        "media = soma_notas/len(alunos)\n",
        "media"
      ],
      "metadata": {
        "colab": {
          "base_uri": "https://localhost:8080/"
        },
        "id": "GDWt0k0hAu1g",
        "outputId": "2e858570-5ffe-41d4-a06d-1b903bd935e3"
      },
      "execution_count": null,
      "outputs": [
        {
          "output_type": "execute_result",
          "data": {
            "text/plain": [
              "9.833333333333334"
            ]
          },
          "metadata": {},
          "execution_count": 81
        }
      ]
    },
    {
      "cell_type": "markdown",
      "source": [
        "While"
      ],
      "metadata": {
        "id": "lLLqCbUgtZN1"
      }
    },
    {
      "cell_type": "code",
      "source": [
        "numero = len(alunos)\n",
        "count = 0\n",
        "while count < numero:\n",
        "  print(alunos[count])\n",
        "  count += 1"
      ],
      "metadata": {
        "colab": {
          "base_uri": "https://localhost:8080/"
        },
        "id": "R_uDoRwDtVoJ",
        "outputId": "a6b6a687-219d-4c4e-efce-e8e9af19b9cb"
      },
      "execution_count": null,
      "outputs": [
        {
          "output_type": "stream",
          "name": "stdout",
          "text": [
            "{'nome': 'Diego', 'idade': 35, 'nota': 10}\n",
            "{'nome': 'João', 'idade': 25, 'nota': 9.5}\n",
            "{'nome': 'Maria', 'idade': 23, 'nota': 10}\n"
          ]
        }
      ]
    },
    {
      "cell_type": "markdown",
      "source": [
        "# Condicionais"
      ],
      "metadata": {
        "id": "zp9AWhF9nWbh"
      }
    },
    {
      "cell_type": "markdown",
      "source": [
        "São operações utilizadas para determinar se uma condição está sendo atendida. <br />\n",
        "<br />\n",
        "\n",
        "Operadores:<br />\n",
        "\n",
        "Operador |\tTipo\t| Valor\n",
        "--------- | ------ | --------\n",
        "==\t| Igualdade |\tVerifica a igualdade entre dois valores.\n",
        "!=  |\tIgualdade  |\tVerifica a diferença entre dois valores.\n",
        "> |\tComparação |\tVerificar se o valor A é maior que o valor B.\n",
        "< |\tComparação\t| Verifica se o valor A é menor que o valor B.\n",
        ">=|\tComparação\t| Verifica se o valor A é maior ou igual ao valor B.\n",
        "<= |\tComparação\t| Verifica se o valor A é menor ou igual ao valor B.\n",
        "In |\tSeqüência\t| Verifica se o valor A está contido em um conjunto.\n"
      ],
      "metadata": {
        "id": "pHdvx8d1F7IM"
      }
    },
    {
      "cell_type": "markdown",
      "source": [
        "Exemplos:\n",
        "<br />\n",
        "1 - Dada uma lista de alunos, vamos verificar se o aluno **João** está entre eles"
      ],
      "metadata": {
        "id": "b0aqzWq-RncC"
      }
    },
    {
      "cell_type": "code",
      "source": [
        "alunos = ['Mario', 'João', 'Marcelo', 'Jair', 'Jaques', 'Diego', 'Jairo', 'Beatriz']"
      ],
      "metadata": {
        "id": "RzyDJmhsRpuB"
      },
      "execution_count": null,
      "outputs": []
    },
    {
      "cell_type": "code",
      "source": [
        "# Método 1\n",
        "for aluno in alunos:\n",
        "  if aluno == 'João':\n",
        "    print(f'{aluno} está matriculado.')"
      ],
      "metadata": {
        "colab": {
          "base_uri": "https://localhost:8080/"
        },
        "id": "PImIpF9iSPNP",
        "outputId": "ed6a6e3e-7d01-41e0-e795-d2e3d78c9bb9"
      },
      "execution_count": null,
      "outputs": [
        {
          "output_type": "stream",
          "name": "stdout",
          "text": [
            "João está matriculado.\n"
          ]
        }
      ]
    },
    {
      "cell_type": "code",
      "source": [
        "# Método 2\n",
        "estudante = 'João'\n",
        "if estudante in alunos:\n",
        "  print(f\"Aluno {estudante} encontrado.\")"
      ],
      "metadata": {
        "colab": {
          "base_uri": "https://localhost:8080/"
        },
        "id": "hfXXcVZoS8Ck",
        "outputId": "02a848f7-133b-4743-f8b3-5fe885795fcc"
      },
      "execution_count": null,
      "outputs": [
        {
          "output_type": "stream",
          "name": "stdout",
          "text": [
            "Aluno João encontrado.\n"
          ]
        }
      ]
    },
    {
      "cell_type": "markdown",
      "source": [
        "# Funções"
      ],
      "metadata": {
        "id": "aa8VFl221Uit"
      }
    },
    {
      "cell_type": "markdown",
      "source": [
        "Uma função é um bloco de código nomeado que executa uma tarefa ou um conjunto de tarefas pré definidas.<br />\n",
        "<br />\n",
        "O uso de funções nos trazem algumas vantagens:\n",
        "* Reaproveitamento de código\n",
        "* Melhor organização\n",
        "* Código mais bem estruturado e de fácil compreensão\n",
        "* Facilidade de manutenção\n"
      ],
      "metadata": {
        "id": "LmiCicjPULqp"
      }
    },
    {
      "cell_type": "markdown",
      "source": [
        "Vamos considerar nossa lista de alunos:"
      ],
      "metadata": {
        "id": "F7mKyGXYbMJo"
      }
    },
    {
      "cell_type": "code",
      "source": [
        "alunos_lista = [\n",
        "    {\n",
        "    \"nome\": \"Diego\",\n",
        "    \"idade\": 35,\n",
        "    \"nota\": 10\n",
        "    },\n",
        "    {\n",
        "    \"nome\": \"João\",\n",
        "    \"idade\": 25,\n",
        "    \"nota\": 9.5\n",
        "    },\n",
        "    {\n",
        "    \"nome\": \"Maria\",\n",
        "    \"idade\": 23,\n",
        "    \"nota\": 10\n",
        "    },\n",
        "]"
      ],
      "metadata": {
        "id": "-Mak-JV-bcui"
      },
      "execution_count": null,
      "outputs": []
    },
    {
      "cell_type": "code",
      "execution_count": null,
      "metadata": {
        "id": "URxvunAFmDeE"
      },
      "outputs": [],
      "source": [
        "def valida_aluno(aluno_nome):\n",
        "  for aluno in alunos_lista:\n",
        "    if aluno_nome == aluno['nome']:\n",
        "      print(f'Aluno {aluno_nome} encontrado.')"
      ]
    },
    {
      "cell_type": "code",
      "source": [
        "valida_aluno(aluno_nome='Maria')"
      ],
      "metadata": {
        "colab": {
          "base_uri": "https://localhost:8080/"
        },
        "id": "0Jv1oTZ3ViR1",
        "outputId": "de81a763-a664-49dd-f61f-ba6b40f3aea0"
      },
      "execution_count": null,
      "outputs": [
        {
          "output_type": "stream",
          "name": "stdout",
          "text": [
            "Aluno Maria encontrado.\n"
          ]
        }
      ]
    },
    {
      "cell_type": "markdown",
      "source": [
        "No exemplo acima vimos um exemplo de como podemos criar e utilizar uma função. Vamos a mais um exemplo."
      ],
      "metadata": {
        "id": "1m-Hy5Hnatmd"
      }
    },
    {
      "cell_type": "code",
      "source": [
        "def cria_aluno(aluno_nome, aluno_idade):\n",
        "  alunos_lista.append({'nome': aluno_nome,\n",
        "                       'idade': aluno_idade})"
      ],
      "metadata": {
        "id": "u28uMZd7a8e_"
      },
      "execution_count": null,
      "outputs": []
    },
    {
      "cell_type": "code",
      "source": [
        "cria_aluno(aluno_nome='Giovanni', aluno_idade=29)"
      ],
      "metadata": {
        "id": "bocFxxnEdhf1"
      },
      "execution_count": null,
      "outputs": []
    },
    {
      "cell_type": "code",
      "source": [
        "cria_aluno(aluno_nome='Marcelo', aluno_idade=18)"
      ],
      "metadata": {
        "id": "0h75PlXId3z1"
      },
      "execution_count": null,
      "outputs": []
    },
    {
      "cell_type": "code",
      "source": [
        "alunos_lista"
      ],
      "metadata": {
        "colab": {
          "base_uri": "https://localhost:8080/"
        },
        "id": "btfrn6SvdRFw",
        "outputId": "4dc69554-d16b-4e43-f03a-e8827ea5b7c1"
      },
      "execution_count": null,
      "outputs": [
        {
          "output_type": "execute_result",
          "data": {
            "text/plain": [
              "[{'nome': 'Diego', 'idade': 35, 'nota': 10},\n",
              " {'nome': 'João', 'idade': 25, 'nota': 9.5},\n",
              " {'nome': 'Maria', 'idade': 23, 'nota': 10},\n",
              " {'nome': 'Giovanni', 'idade': 29},\n",
              " {'nome': 'Marcelo', 'idade': 18}]"
            ]
          },
          "metadata": {},
          "execution_count": 96
        }
      ]
    },
    {
      "cell_type": "code",
      "source": [
        "def atualiza_nota_aluno(aluno_nome, aluno_idade, aluno_nota):\n",
        "  for aluno in alunos_lista:\n",
        "    if aluno['nome']==aluno_nome and aluno['idade']==aluno_idade:\n",
        "      aluno.update({'nota': aluno_nota})\n",
        "      print(f'Nota do aluno {aluno_nome} atualizada')"
      ],
      "metadata": {
        "id": "YAi_27Lmd6ed"
      },
      "execution_count": null,
      "outputs": []
    },
    {
      "cell_type": "code",
      "source": [
        "atualiza_nota_aluno('Giovanni', 29, 8)"
      ],
      "metadata": {
        "colab": {
          "base_uri": "https://localhost:8080/"
        },
        "id": "miMCXfNXe9bZ",
        "outputId": "be082b40-5e75-4a49-953d-cc10d9a9bd8a"
      },
      "execution_count": null,
      "outputs": [
        {
          "output_type": "stream",
          "name": "stdout",
          "text": [
            "Nota do aluno {aluno_nome} atualizada\n"
          ]
        }
      ]
    },
    {
      "cell_type": "code",
      "source": [
        "alunos_lista"
      ],
      "metadata": {
        "colab": {
          "base_uri": "https://localhost:8080/"
        },
        "id": "dMllhhU6fF4G",
        "outputId": "13ff940c-d74e-4709-a9ab-e7424f17910c"
      },
      "execution_count": null,
      "outputs": [
        {
          "output_type": "execute_result",
          "data": {
            "text/plain": [
              "[{'nome': 'Diego', 'idade': 35, 'nota': 10},\n",
              " {'nome': 'João', 'idade': 25, 'nota': 9.5},\n",
              " {'nome': 'Maria', 'idade': 23, 'nota': 10},\n",
              " {'nome': 'Giovanni', 'idade': 29, 'nota': 8},\n",
              " {'nome': 'Marcelo', 'idade': 18}]"
            ]
          },
          "metadata": {},
          "execution_count": 99
        }
      ]
    },
    {
      "cell_type": "markdown",
      "source": [
        "# Classes"
      ],
      "metadata": {
        "id": "zypZ6Enht8wD"
      }
    },
    {
      "cell_type": "code",
      "source": [
        "# Aqui apenas um exemplo de como criamos uima classe no Python. No próximo encontro\n",
        "# iremos adicionar mais detalhes.\n",
        "\n",
        "class Alunos():\n",
        "  def __init__(self):\n",
        "    pass\n",
        "\n",
        "  def valida_aluno(self, aluno_nome):\n",
        "    for aluno in alunos_lista:\n",
        "      if aluno_nome == aluno['nome']:\n",
        "        print(f'Aluno {aluno_nome} encontrado.')\n",
        "\n",
        "  def cria_aluno(self, aluno_nome, aluno_idade):\n",
        "    alunos_lista.append({'nome': aluno_nome,\n",
        "                        'idade': aluno_idade})\n",
        "    \n",
        "  def atualiza_nota_aluno(self, aluno_nome, aluno_idade, aluno_nota):\n",
        "    for aluno in alunos_lista:\n",
        "      if aluno['nome']==aluno_nome and aluno['idade']==aluno_idade:\n",
        "        aluno.update({'nota': aluno_nota})\n",
        "        print(f'Nota do aluno {aluno_nome} atualizada')"
      ],
      "metadata": {
        "id": "vN09fEo6t-xL"
      },
      "execution_count": null,
      "outputs": []
    },
    {
      "cell_type": "code",
      "source": [
        "# Criamos uma instancia da nossa classe\n",
        "ca = Alunos()"
      ],
      "metadata": {
        "id": "2CLJKGDRfdpV"
      },
      "execution_count": null,
      "outputs": []
    },
    {
      "cell_type": "code",
      "source": [
        "# E podemos utilizá-la\n",
        "ca.cria_aluno('Matheus', 28)"
      ],
      "metadata": {
        "id": "X3vgPkStuUSm"
      },
      "execution_count": null,
      "outputs": []
    },
    {
      "cell_type": "code",
      "source": [
        "ca.cria_aluno('Mariana', 35)"
      ],
      "metadata": {
        "id": "K71Zg_OdHVaS"
      },
      "execution_count": null,
      "outputs": []
    },
    {
      "cell_type": "code",
      "source": [
        "alunos_lista"
      ],
      "metadata": {
        "colab": {
          "base_uri": "https://localhost:8080/"
        },
        "id": "z1mA1SQIHBfW",
        "outputId": "05a0602f-9ec1-4b80-98b6-6e4c41149dc9"
      },
      "execution_count": null,
      "outputs": [
        {
          "output_type": "execute_result",
          "data": {
            "text/plain": [
              "[{'nome': 'Diego', 'idade': 35, 'nota': 10},\n",
              " {'nome': 'João', 'idade': 25, 'nota': 9.5},\n",
              " {'nome': 'Maria', 'idade': 23, 'nota': 10},\n",
              " {'nome': 'Giovanni', 'idade': 29, 'nota': 8},\n",
              " {'nome': 'Marcelo', 'idade': 18},\n",
              " {'nome': 'Matheus', 'idade': 28},\n",
              " {'nome': 'Mariana', 'idade': 35}]"
            ]
          },
          "metadata": {},
          "execution_count": 117
        }
      ]
    },
    {
      "cell_type": "code",
      "source": [],
      "metadata": {
        "id": "yYuzePwPHYB3"
      },
      "execution_count": null,
      "outputs": []
    }
  ]
}