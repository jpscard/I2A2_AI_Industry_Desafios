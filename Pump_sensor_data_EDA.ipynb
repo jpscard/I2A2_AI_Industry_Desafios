{
  "nbformat": 4,
  "nbformat_minor": 0,
  "metadata": {
    "colab": {
      "provenance": [],
      "authorship_tag": "ABX9TyPS6IE4YkT/YQIxhtVfUEB+",
      "include_colab_link": true
    },
    "kernelspec": {
      "name": "python3",
      "display_name": "Python 3"
    },
    "language_info": {
      "name": "python"
    }
  },
  "cells": [
    {
      "cell_type": "markdown",
      "metadata": {
        "id": "view-in-github",
        "colab_type": "text"
      },
      "source": [
        "<a href=\"https://colab.research.google.com/github/jpscard/I2A2_AI_Industry_Desafios/blob/main/Pump_sensor_data_EDA.ipynb\" target=\"_parent\"><img src=\"https://colab.research.google.com/assets/colab-badge.svg\" alt=\"Open In Colab\"/></a>"
      ]
    },
    {
      "cell_type": "markdown",
      "source": [
        "## 1 - Importando as bibliotecas"
      ],
      "metadata": {
        "id": "k--hgdDVHzwu"
      }
    },
    {
      "cell_type": "code",
      "execution_count": 1,
      "metadata": {
        "id": "fEittPV0Hyiq"
      },
      "outputs": [],
      "source": [
        "import os\n",
        "import pandas as pd\n",
        "import numpy as np\n",
        "import matplotlib.pyplot as plt\n",
        "import seaborn as sns\n",
        "%matplotlib inline\n",
        "sns.set_style('whitegrid')\n",
        "#fazer upload de arquivo\n",
        "from google.colab import files\n",
        "#carregar dataset\n",
        "from pandas import read_csv"
      ]
    },
    {
      "cell_type": "markdown",
      "source": [
        "## 2 - Importando e carregando o dataset"
      ],
      "metadata": {
        "id": "6E-WXLyYH_JL"
      }
    },
    {
      "cell_type": "code",
      "execution_count": 2,
      "metadata": {
        "colab": {
          "base_uri": "https://localhost:8080/",
          "height": 36
        },
        "id": "3VgP3r2ZH_JM",
        "outputId": "368faf64-441f-4ebf-f397-a5ca56e514ae"
      },
      "outputs": [
        {
          "output_type": "display_data",
          "data": {
            "text/plain": [
              "<IPython.core.display.HTML object>"
            ],
            "text/html": [
              "\n",
              "     <input type=\"file\" id=\"files-6b3fe044-18d3-4988-bcbc-a1f27fcfee28\" name=\"files[]\" multiple disabled\n",
              "        style=\"border:none\" />\n",
              "     <output id=\"result-6b3fe044-18d3-4988-bcbc-a1f27fcfee28\">\n",
              "      Upload widget is only available when the cell has been executed in the\n",
              "      current browser session. Please rerun this cell to enable.\n",
              "      </output>\n",
              "      <script>// Copyright 2017 Google LLC\n",
              "//\n",
              "// Licensed under the Apache License, Version 2.0 (the \"License\");\n",
              "// you may not use this file except in compliance with the License.\n",
              "// You may obtain a copy of the License at\n",
              "//\n",
              "//      http://www.apache.org/licenses/LICENSE-2.0\n",
              "//\n",
              "// Unless required by applicable law or agreed to in writing, software\n",
              "// distributed under the License is distributed on an \"AS IS\" BASIS,\n",
              "// WITHOUT WARRANTIES OR CONDITIONS OF ANY KIND, either express or implied.\n",
              "// See the License for the specific language governing permissions and\n",
              "// limitations under the License.\n",
              "\n",
              "/**\n",
              " * @fileoverview Helpers for google.colab Python module.\n",
              " */\n",
              "(function(scope) {\n",
              "function span(text, styleAttributes = {}) {\n",
              "  const element = document.createElement('span');\n",
              "  element.textContent = text;\n",
              "  for (const key of Object.keys(styleAttributes)) {\n",
              "    element.style[key] = styleAttributes[key];\n",
              "  }\n",
              "  return element;\n",
              "}\n",
              "\n",
              "// Max number of bytes which will be uploaded at a time.\n",
              "const MAX_PAYLOAD_SIZE = 100 * 1024;\n",
              "\n",
              "function _uploadFiles(inputId, outputId) {\n",
              "  const steps = uploadFilesStep(inputId, outputId);\n",
              "  const outputElement = document.getElementById(outputId);\n",
              "  // Cache steps on the outputElement to make it available for the next call\n",
              "  // to uploadFilesContinue from Python.\n",
              "  outputElement.steps = steps;\n",
              "\n",
              "  return _uploadFilesContinue(outputId);\n",
              "}\n",
              "\n",
              "// This is roughly an async generator (not supported in the browser yet),\n",
              "// where there are multiple asynchronous steps and the Python side is going\n",
              "// to poll for completion of each step.\n",
              "// This uses a Promise to block the python side on completion of each step,\n",
              "// then passes the result of the previous step as the input to the next step.\n",
              "function _uploadFilesContinue(outputId) {\n",
              "  const outputElement = document.getElementById(outputId);\n",
              "  const steps = outputElement.steps;\n",
              "\n",
              "  const next = steps.next(outputElement.lastPromiseValue);\n",
              "  return Promise.resolve(next.value.promise).then((value) => {\n",
              "    // Cache the last promise value to make it available to the next\n",
              "    // step of the generator.\n",
              "    outputElement.lastPromiseValue = value;\n",
              "    return next.value.response;\n",
              "  });\n",
              "}\n",
              "\n",
              "/**\n",
              " * Generator function which is called between each async step of the upload\n",
              " * process.\n",
              " * @param {string} inputId Element ID of the input file picker element.\n",
              " * @param {string} outputId Element ID of the output display.\n",
              " * @return {!Iterable<!Object>} Iterable of next steps.\n",
              " */\n",
              "function* uploadFilesStep(inputId, outputId) {\n",
              "  const inputElement = document.getElementById(inputId);\n",
              "  inputElement.disabled = false;\n",
              "\n",
              "  const outputElement = document.getElementById(outputId);\n",
              "  outputElement.innerHTML = '';\n",
              "\n",
              "  const pickedPromise = new Promise((resolve) => {\n",
              "    inputElement.addEventListener('change', (e) => {\n",
              "      resolve(e.target.files);\n",
              "    });\n",
              "  });\n",
              "\n",
              "  const cancel = document.createElement('button');\n",
              "  inputElement.parentElement.appendChild(cancel);\n",
              "  cancel.textContent = 'Cancel upload';\n",
              "  const cancelPromise = new Promise((resolve) => {\n",
              "    cancel.onclick = () => {\n",
              "      resolve(null);\n",
              "    };\n",
              "  });\n",
              "\n",
              "  // Wait for the user to pick the files.\n",
              "  const files = yield {\n",
              "    promise: Promise.race([pickedPromise, cancelPromise]),\n",
              "    response: {\n",
              "      action: 'starting',\n",
              "    }\n",
              "  };\n",
              "\n",
              "  cancel.remove();\n",
              "\n",
              "  // Disable the input element since further picks are not allowed.\n",
              "  inputElement.disabled = true;\n",
              "\n",
              "  if (!files) {\n",
              "    return {\n",
              "      response: {\n",
              "        action: 'complete',\n",
              "      }\n",
              "    };\n",
              "  }\n",
              "\n",
              "  for (const file of files) {\n",
              "    const li = document.createElement('li');\n",
              "    li.append(span(file.name, {fontWeight: 'bold'}));\n",
              "    li.append(span(\n",
              "        `(${file.type || 'n/a'}) - ${file.size} bytes, ` +\n",
              "        `last modified: ${\n",
              "            file.lastModifiedDate ? file.lastModifiedDate.toLocaleDateString() :\n",
              "                                    'n/a'} - `));\n",
              "    const percent = span('0% done');\n",
              "    li.appendChild(percent);\n",
              "\n",
              "    outputElement.appendChild(li);\n",
              "\n",
              "    const fileDataPromise = new Promise((resolve) => {\n",
              "      const reader = new FileReader();\n",
              "      reader.onload = (e) => {\n",
              "        resolve(e.target.result);\n",
              "      };\n",
              "      reader.readAsArrayBuffer(file);\n",
              "    });\n",
              "    // Wait for the data to be ready.\n",
              "    let fileData = yield {\n",
              "      promise: fileDataPromise,\n",
              "      response: {\n",
              "        action: 'continue',\n",
              "      }\n",
              "    };\n",
              "\n",
              "    // Use a chunked sending to avoid message size limits. See b/62115660.\n",
              "    let position = 0;\n",
              "    do {\n",
              "      const length = Math.min(fileData.byteLength - position, MAX_PAYLOAD_SIZE);\n",
              "      const chunk = new Uint8Array(fileData, position, length);\n",
              "      position += length;\n",
              "\n",
              "      const base64 = btoa(String.fromCharCode.apply(null, chunk));\n",
              "      yield {\n",
              "        response: {\n",
              "          action: 'append',\n",
              "          file: file.name,\n",
              "          data: base64,\n",
              "        },\n",
              "      };\n",
              "\n",
              "      let percentDone = fileData.byteLength === 0 ?\n",
              "          100 :\n",
              "          Math.round((position / fileData.byteLength) * 100);\n",
              "      percent.textContent = `${percentDone}% done`;\n",
              "\n",
              "    } while (position < fileData.byteLength);\n",
              "  }\n",
              "\n",
              "  // All done.\n",
              "  yield {\n",
              "    response: {\n",
              "      action: 'complete',\n",
              "    }\n",
              "  };\n",
              "}\n",
              "\n",
              "scope.google = scope.google || {};\n",
              "scope.google.colab = scope.google.colab || {};\n",
              "scope.google.colab._files = {\n",
              "  _uploadFiles,\n",
              "  _uploadFilesContinue,\n",
              "};\n",
              "})(self);\n",
              "</script> "
            ]
          },
          "metadata": {}
        }
      ],
      "source": [
        "# Para fazer o upload do dataset, método opcional. Rodar apenas uma vez no inicio \n",
        "uploaded = files.upload()"
      ]
    },
    {
      "cell_type": "code",
      "source": [
        "#carregar o dataset\n",
        "df=pd.read_csv('/content/sensor.csv')"
      ],
      "metadata": {
        "id": "rp6wHC1hIydy"
      },
      "execution_count": 3,
      "outputs": []
    },
    {
      "cell_type": "markdown",
      "source": [
        "# **3 - Limpeza de dados**"
      ],
      "metadata": {
        "id": "ZhtP1BKxng5U"
      }
    },
    {
      "cell_type": "code",
      "execution_count": 4,
      "metadata": {
        "colab": {
          "base_uri": "https://localhost:8080/",
          "height": 491
        },
        "id": "ox_uxam2H_uK",
        "outputId": "255e08af-5507-4b5a-c774-33bc00663a34"
      },
      "outputs": [
        {
          "output_type": "execute_result",
          "data": {
            "text/plain": [
              "   Unnamed: 0            timestamp  sensor_00  sensor_01  sensor_02  \\\n",
              "0           0  2018-04-01 00:00:00   2.465394   47.09201    53.2118   \n",
              "1           1  2018-04-01 00:01:00   2.465394   47.09201    53.2118   \n",
              "2           2  2018-04-01 00:02:00   2.444734   47.35243    53.2118   \n",
              "3           3  2018-04-01 00:03:00   2.460474   47.09201    53.1684   \n",
              "4           4  2018-04-01 00:04:00   2.445718   47.13541    53.2118   \n",
              "\n",
              "   sensor_03  sensor_04  sensor_05  sensor_06  sensor_07  ...  sensor_43  \\\n",
              "0  46.310760   634.3750   76.45975   13.41146   16.13136  ...   41.92708   \n",
              "1  46.310760   634.3750   76.45975   13.41146   16.13136  ...   41.92708   \n",
              "2  46.397570   638.8889   73.54598   13.32465   16.03733  ...   41.66666   \n",
              "3  46.397568   628.1250   76.98898   13.31742   16.24711  ...   40.88541   \n",
              "4  46.397568   636.4583   76.58897   13.35359   16.21094  ...   41.40625   \n",
              "\n",
              "   sensor_44  sensor_45  sensor_46  sensor_47  sensor_48  sensor_49  \\\n",
              "0  39.641200   65.68287   50.92593  38.194440   157.9861   67.70834   \n",
              "1  39.641200   65.68287   50.92593  38.194440   157.9861   67.70834   \n",
              "2  39.351852   65.39352   51.21528  38.194443   155.9606   67.12963   \n",
              "3  39.062500   64.81481   51.21528  38.194440   155.9606   66.84028   \n",
              "4  38.773150   65.10416   51.79398  38.773150   158.2755   66.55093   \n",
              "\n",
              "   sensor_50  sensor_51  machine_status  \n",
              "0   243.0556   201.3889          NORMAL  \n",
              "1   243.0556   201.3889          NORMAL  \n",
              "2   241.3194   203.7037          NORMAL  \n",
              "3   240.4514   203.1250          NORMAL  \n",
              "4   242.1875   201.3889          NORMAL  \n",
              "\n",
              "[5 rows x 55 columns]"
            ],
            "text/html": [
              "\n",
              "  <div id=\"df-1cdf5994-b95d-49ce-b62e-9ecdb66063c5\">\n",
              "    <div class=\"colab-df-container\">\n",
              "      <div>\n",
              "<style scoped>\n",
              "    .dataframe tbody tr th:only-of-type {\n",
              "        vertical-align: middle;\n",
              "    }\n",
              "\n",
              "    .dataframe tbody tr th {\n",
              "        vertical-align: top;\n",
              "    }\n",
              "\n",
              "    .dataframe thead th {\n",
              "        text-align: right;\n",
              "    }\n",
              "</style>\n",
              "<table border=\"1\" class=\"dataframe\">\n",
              "  <thead>\n",
              "    <tr style=\"text-align: right;\">\n",
              "      <th></th>\n",
              "      <th>Unnamed: 0</th>\n",
              "      <th>timestamp</th>\n",
              "      <th>sensor_00</th>\n",
              "      <th>sensor_01</th>\n",
              "      <th>sensor_02</th>\n",
              "      <th>sensor_03</th>\n",
              "      <th>sensor_04</th>\n",
              "      <th>sensor_05</th>\n",
              "      <th>sensor_06</th>\n",
              "      <th>sensor_07</th>\n",
              "      <th>...</th>\n",
              "      <th>sensor_43</th>\n",
              "      <th>sensor_44</th>\n",
              "      <th>sensor_45</th>\n",
              "      <th>sensor_46</th>\n",
              "      <th>sensor_47</th>\n",
              "      <th>sensor_48</th>\n",
              "      <th>sensor_49</th>\n",
              "      <th>sensor_50</th>\n",
              "      <th>sensor_51</th>\n",
              "      <th>machine_status</th>\n",
              "    </tr>\n",
              "  </thead>\n",
              "  <tbody>\n",
              "    <tr>\n",
              "      <th>0</th>\n",
              "      <td>0</td>\n",
              "      <td>2018-04-01 00:00:00</td>\n",
              "      <td>2.465394</td>\n",
              "      <td>47.09201</td>\n",
              "      <td>53.2118</td>\n",
              "      <td>46.310760</td>\n",
              "      <td>634.3750</td>\n",
              "      <td>76.45975</td>\n",
              "      <td>13.41146</td>\n",
              "      <td>16.13136</td>\n",
              "      <td>...</td>\n",
              "      <td>41.92708</td>\n",
              "      <td>39.641200</td>\n",
              "      <td>65.68287</td>\n",
              "      <td>50.92593</td>\n",
              "      <td>38.194440</td>\n",
              "      <td>157.9861</td>\n",
              "      <td>67.70834</td>\n",
              "      <td>243.0556</td>\n",
              "      <td>201.3889</td>\n",
              "      <td>NORMAL</td>\n",
              "    </tr>\n",
              "    <tr>\n",
              "      <th>1</th>\n",
              "      <td>1</td>\n",
              "      <td>2018-04-01 00:01:00</td>\n",
              "      <td>2.465394</td>\n",
              "      <td>47.09201</td>\n",
              "      <td>53.2118</td>\n",
              "      <td>46.310760</td>\n",
              "      <td>634.3750</td>\n",
              "      <td>76.45975</td>\n",
              "      <td>13.41146</td>\n",
              "      <td>16.13136</td>\n",
              "      <td>...</td>\n",
              "      <td>41.92708</td>\n",
              "      <td>39.641200</td>\n",
              "      <td>65.68287</td>\n",
              "      <td>50.92593</td>\n",
              "      <td>38.194440</td>\n",
              "      <td>157.9861</td>\n",
              "      <td>67.70834</td>\n",
              "      <td>243.0556</td>\n",
              "      <td>201.3889</td>\n",
              "      <td>NORMAL</td>\n",
              "    </tr>\n",
              "    <tr>\n",
              "      <th>2</th>\n",
              "      <td>2</td>\n",
              "      <td>2018-04-01 00:02:00</td>\n",
              "      <td>2.444734</td>\n",
              "      <td>47.35243</td>\n",
              "      <td>53.2118</td>\n",
              "      <td>46.397570</td>\n",
              "      <td>638.8889</td>\n",
              "      <td>73.54598</td>\n",
              "      <td>13.32465</td>\n",
              "      <td>16.03733</td>\n",
              "      <td>...</td>\n",
              "      <td>41.66666</td>\n",
              "      <td>39.351852</td>\n",
              "      <td>65.39352</td>\n",
              "      <td>51.21528</td>\n",
              "      <td>38.194443</td>\n",
              "      <td>155.9606</td>\n",
              "      <td>67.12963</td>\n",
              "      <td>241.3194</td>\n",
              "      <td>203.7037</td>\n",
              "      <td>NORMAL</td>\n",
              "    </tr>\n",
              "    <tr>\n",
              "      <th>3</th>\n",
              "      <td>3</td>\n",
              "      <td>2018-04-01 00:03:00</td>\n",
              "      <td>2.460474</td>\n",
              "      <td>47.09201</td>\n",
              "      <td>53.1684</td>\n",
              "      <td>46.397568</td>\n",
              "      <td>628.1250</td>\n",
              "      <td>76.98898</td>\n",
              "      <td>13.31742</td>\n",
              "      <td>16.24711</td>\n",
              "      <td>...</td>\n",
              "      <td>40.88541</td>\n",
              "      <td>39.062500</td>\n",
              "      <td>64.81481</td>\n",
              "      <td>51.21528</td>\n",
              "      <td>38.194440</td>\n",
              "      <td>155.9606</td>\n",
              "      <td>66.84028</td>\n",
              "      <td>240.4514</td>\n",
              "      <td>203.1250</td>\n",
              "      <td>NORMAL</td>\n",
              "    </tr>\n",
              "    <tr>\n",
              "      <th>4</th>\n",
              "      <td>4</td>\n",
              "      <td>2018-04-01 00:04:00</td>\n",
              "      <td>2.445718</td>\n",
              "      <td>47.13541</td>\n",
              "      <td>53.2118</td>\n",
              "      <td>46.397568</td>\n",
              "      <td>636.4583</td>\n",
              "      <td>76.58897</td>\n",
              "      <td>13.35359</td>\n",
              "      <td>16.21094</td>\n",
              "      <td>...</td>\n",
              "      <td>41.40625</td>\n",
              "      <td>38.773150</td>\n",
              "      <td>65.10416</td>\n",
              "      <td>51.79398</td>\n",
              "      <td>38.773150</td>\n",
              "      <td>158.2755</td>\n",
              "      <td>66.55093</td>\n",
              "      <td>242.1875</td>\n",
              "      <td>201.3889</td>\n",
              "      <td>NORMAL</td>\n",
              "    </tr>\n",
              "  </tbody>\n",
              "</table>\n",
              "<p>5 rows × 55 columns</p>\n",
              "</div>\n",
              "      <button class=\"colab-df-convert\" onclick=\"convertToInteractive('df-1cdf5994-b95d-49ce-b62e-9ecdb66063c5')\"\n",
              "              title=\"Convert this dataframe to an interactive table.\"\n",
              "              style=\"display:none;\">\n",
              "        \n",
              "  <svg xmlns=\"http://www.w3.org/2000/svg\" height=\"24px\"viewBox=\"0 0 24 24\"\n",
              "       width=\"24px\">\n",
              "    <path d=\"M0 0h24v24H0V0z\" fill=\"none\"/>\n",
              "    <path d=\"M18.56 5.44l.94 2.06.94-2.06 2.06-.94-2.06-.94-.94-2.06-.94 2.06-2.06.94zm-11 1L8.5 8.5l.94-2.06 2.06-.94-2.06-.94L8.5 2.5l-.94 2.06-2.06.94zm10 10l.94 2.06.94-2.06 2.06-.94-2.06-.94-.94-2.06-.94 2.06-2.06.94z\"/><path d=\"M17.41 7.96l-1.37-1.37c-.4-.4-.92-.59-1.43-.59-.52 0-1.04.2-1.43.59L10.3 9.45l-7.72 7.72c-.78.78-.78 2.05 0 2.83L4 21.41c.39.39.9.59 1.41.59.51 0 1.02-.2 1.41-.59l7.78-7.78 2.81-2.81c.8-.78.8-2.07 0-2.86zM5.41 20L4 18.59l7.72-7.72 1.47 1.35L5.41 20z\"/>\n",
              "  </svg>\n",
              "      </button>\n",
              "      \n",
              "  <style>\n",
              "    .colab-df-container {\n",
              "      display:flex;\n",
              "      flex-wrap:wrap;\n",
              "      gap: 12px;\n",
              "    }\n",
              "\n",
              "    .colab-df-convert {\n",
              "      background-color: #E8F0FE;\n",
              "      border: none;\n",
              "      border-radius: 50%;\n",
              "      cursor: pointer;\n",
              "      display: none;\n",
              "      fill: #1967D2;\n",
              "      height: 32px;\n",
              "      padding: 0 0 0 0;\n",
              "      width: 32px;\n",
              "    }\n",
              "\n",
              "    .colab-df-convert:hover {\n",
              "      background-color: #E2EBFA;\n",
              "      box-shadow: 0px 1px 2px rgba(60, 64, 67, 0.3), 0px 1px 3px 1px rgba(60, 64, 67, 0.15);\n",
              "      fill: #174EA6;\n",
              "    }\n",
              "\n",
              "    [theme=dark] .colab-df-convert {\n",
              "      background-color: #3B4455;\n",
              "      fill: #D2E3FC;\n",
              "    }\n",
              "\n",
              "    [theme=dark] .colab-df-convert:hover {\n",
              "      background-color: #434B5C;\n",
              "      box-shadow: 0px 1px 3px 1px rgba(0, 0, 0, 0.15);\n",
              "      filter: drop-shadow(0px 1px 2px rgba(0, 0, 0, 0.3));\n",
              "      fill: #FFFFFF;\n",
              "    }\n",
              "  </style>\n",
              "\n",
              "      <script>\n",
              "        const buttonEl =\n",
              "          document.querySelector('#df-1cdf5994-b95d-49ce-b62e-9ecdb66063c5 button.colab-df-convert');\n",
              "        buttonEl.style.display =\n",
              "          google.colab.kernel.accessAllowed ? 'block' : 'none';\n",
              "\n",
              "        async function convertToInteractive(key) {\n",
              "          const element = document.querySelector('#df-1cdf5994-b95d-49ce-b62e-9ecdb66063c5');\n",
              "          const dataTable =\n",
              "            await google.colab.kernel.invokeFunction('convertToInteractive',\n",
              "                                                     [key], {});\n",
              "          if (!dataTable) return;\n",
              "\n",
              "          const docLinkHtml = 'Like what you see? Visit the ' +\n",
              "            '<a target=\"_blank\" href=https://colab.research.google.com/notebooks/data_table.ipynb>data table notebook</a>'\n",
              "            + ' to learn more about interactive tables.';\n",
              "          element.innerHTML = '';\n",
              "          dataTable['output_type'] = 'display_data';\n",
              "          await google.colab.output.renderOutput(dataTable, element);\n",
              "          const docLink = document.createElement('div');\n",
              "          docLink.innerHTML = docLinkHtml;\n",
              "          element.appendChild(docLink);\n",
              "        }\n",
              "      </script>\n",
              "    </div>\n",
              "  </div>\n",
              "  "
            ]
          },
          "metadata": {},
          "execution_count": 4
        }
      ],
      "source": [
        "# Para exibir as 5 primeiras linhas do dataframe\n",
        "df.head()"
      ]
    },
    {
      "cell_type": "code",
      "source": [
        "#Informação sobre o formato do dataframe\n",
        "df.shape"
      ],
      "metadata": {
        "colab": {
          "base_uri": "https://localhost:8080/"
        },
        "id": "rwuuT6A6I92D",
        "outputId": "65858330-f9d4-4f4a-aeb4-03276524cd31"
      },
      "execution_count": 5,
      "outputs": [
        {
          "output_type": "execute_result",
          "data": {
            "text/plain": [
              "(220320, 55)"
            ]
          },
          "metadata": {},
          "execution_count": 5
        }
      ]
    },
    {
      "cell_type": "code",
      "source": [
        "# Algumas informaçoes sobre o dataframe\n",
        "df.info()"
      ],
      "metadata": {
        "colab": {
          "base_uri": "https://localhost:8080/"
        },
        "id": "eyi2sKHII9oa",
        "outputId": "3b7c5474-38da-4f46-882d-a23b4590ce16"
      },
      "execution_count": 6,
      "outputs": [
        {
          "output_type": "stream",
          "name": "stdout",
          "text": [
            "<class 'pandas.core.frame.DataFrame'>\n",
            "RangeIndex: 220320 entries, 0 to 220319\n",
            "Data columns (total 55 columns):\n",
            " #   Column          Non-Null Count   Dtype  \n",
            "---  ------          --------------   -----  \n",
            " 0   Unnamed: 0      220320 non-null  int64  \n",
            " 1   timestamp       220320 non-null  object \n",
            " 2   sensor_00       210112 non-null  float64\n",
            " 3   sensor_01       219951 non-null  float64\n",
            " 4   sensor_02       220301 non-null  float64\n",
            " 5   sensor_03       220301 non-null  float64\n",
            " 6   sensor_04       220301 non-null  float64\n",
            " 7   sensor_05       220301 non-null  float64\n",
            " 8   sensor_06       215522 non-null  float64\n",
            " 9   sensor_07       214869 non-null  float64\n",
            " 10  sensor_08       215213 non-null  float64\n",
            " 11  sensor_09       215725 non-null  float64\n",
            " 12  sensor_10       220301 non-null  float64\n",
            " 13  sensor_11       220301 non-null  float64\n",
            " 14  sensor_12       220301 non-null  float64\n",
            " 15  sensor_13       220301 non-null  float64\n",
            " 16  sensor_14       220299 non-null  float64\n",
            " 17  sensor_15       0 non-null       float64\n",
            " 18  sensor_16       220289 non-null  float64\n",
            " 19  sensor_17       220274 non-null  float64\n",
            " 20  sensor_18       220274 non-null  float64\n",
            " 21  sensor_19       220304 non-null  float64\n",
            " 22  sensor_20       220304 non-null  float64\n",
            " 23  sensor_21       220304 non-null  float64\n",
            " 24  sensor_22       220279 non-null  float64\n",
            " 25  sensor_23       220304 non-null  float64\n",
            " 26  sensor_24       220304 non-null  float64\n",
            " 27  sensor_25       220284 non-null  float64\n",
            " 28  sensor_26       220300 non-null  float64\n",
            " 29  sensor_27       220304 non-null  float64\n",
            " 30  sensor_28       220304 non-null  float64\n",
            " 31  sensor_29       220248 non-null  float64\n",
            " 32  sensor_30       220059 non-null  float64\n",
            " 33  sensor_31       220304 non-null  float64\n",
            " 34  sensor_32       220252 non-null  float64\n",
            " 35  sensor_33       220304 non-null  float64\n",
            " 36  sensor_34       220304 non-null  float64\n",
            " 37  sensor_35       220304 non-null  float64\n",
            " 38  sensor_36       220304 non-null  float64\n",
            " 39  sensor_37       220304 non-null  float64\n",
            " 40  sensor_38       220293 non-null  float64\n",
            " 41  sensor_39       220293 non-null  float64\n",
            " 42  sensor_40       220293 non-null  float64\n",
            " 43  sensor_41       220293 non-null  float64\n",
            " 44  sensor_42       220293 non-null  float64\n",
            " 45  sensor_43       220293 non-null  float64\n",
            " 46  sensor_44       220293 non-null  float64\n",
            " 47  sensor_45       220293 non-null  float64\n",
            " 48  sensor_46       220293 non-null  float64\n",
            " 49  sensor_47       220293 non-null  float64\n",
            " 50  sensor_48       220293 non-null  float64\n",
            " 51  sensor_49       220293 non-null  float64\n",
            " 52  sensor_50       143303 non-null  float64\n",
            " 53  sensor_51       204937 non-null  float64\n",
            " 54  machine_status  220320 non-null  object \n",
            "dtypes: float64(52), int64(1), object(2)\n",
            "memory usage: 92.5+ MB\n"
          ]
        }
      ]
    },
    {
      "cell_type": "code",
      "source": [
        "# Converter timestamp para tipo datetimeIndex (necessário para analisar a série temporal)\n",
        "df.timestamp=pd.to_datetime(df.timestamp)"
      ],
      "metadata": {
        "id": "k7d8OQCBI9dL"
      },
      "execution_count": 7,
      "outputs": []
    },
    {
      "cell_type": "code",
      "source": [
        "# Converter coluna machine_status para dado do tipo categorico \n",
        "df.machine_status=df.machine_status.astype('category')"
      ],
      "metadata": {
        "id": "2q0Xxv-nI9Ta"
      },
      "execution_count": 8,
      "outputs": []
    },
    {
      "cell_type": "code",
      "source": [
        "# Converter timestamp para o indice (necessário para a análise temporal, fornece um único ponto no tempo)\n",
        "df.set_index('timestamp',inplace=True)"
      ],
      "metadata": {
        "id": "uHST1x3WI9EU"
      },
      "execution_count": 9,
      "outputs": []
    },
    {
      "cell_type": "code",
      "source": [
        "# Descartar coluna do sensor_15, por conta de valores nulos\n",
        "df.drop(columns=['sensor_15'],inplace=True)\n",
        "# Descartar primeira coluna\n",
        "df.drop(columns=['Unnamed: 0'],inplace=True)"
      ],
      "metadata": {
        "id": "W1J8m2gaKWOf"
      },
      "execution_count": 10,
      "outputs": []
    },
    {
      "cell_type": "code",
      "source": [
        "# Verificar se há valores NaN (not a number)\n",
        "missing_count= df.isnull().sum() # Para contabilizar valores nulos\n",
        "value_count=df.isnull().count()\n",
        "missing_percentage=round(missing_count/value_count *100, 1) # Para indicar o percentual de valores nulos\n",
        "missing_df= pd.DataFrame({\"quantidade\": missing_count, \"percentual\": missing_percentage})\n",
        "print(missing_df)"
      ],
      "metadata": {
        "colab": {
          "base_uri": "https://localhost:8080/"
        },
        "id": "qznyG8SzKdjS",
        "outputId": "6d889c4b-73df-41b7-fcf8-28012f3ec57a"
      },
      "execution_count": 11,
      "outputs": [
        {
          "output_type": "stream",
          "name": "stdout",
          "text": [
            "                quantidade  percentual\n",
            "sensor_00            10208         4.6\n",
            "sensor_01              369         0.2\n",
            "sensor_02               19         0.0\n",
            "sensor_03               19         0.0\n",
            "sensor_04               19         0.0\n",
            "sensor_05               19         0.0\n",
            "sensor_06             4798         2.2\n",
            "sensor_07             5451         2.5\n",
            "sensor_08             5107         2.3\n",
            "sensor_09             4595         2.1\n",
            "sensor_10               19         0.0\n",
            "sensor_11               19         0.0\n",
            "sensor_12               19         0.0\n",
            "sensor_13               19         0.0\n",
            "sensor_14               21         0.0\n",
            "sensor_16               31         0.0\n",
            "sensor_17               46         0.0\n",
            "sensor_18               46         0.0\n",
            "sensor_19               16         0.0\n",
            "sensor_20               16         0.0\n",
            "sensor_21               16         0.0\n",
            "sensor_22               41         0.0\n",
            "sensor_23               16         0.0\n",
            "sensor_24               16         0.0\n",
            "sensor_25               36         0.0\n",
            "sensor_26               20         0.0\n",
            "sensor_27               16         0.0\n",
            "sensor_28               16         0.0\n",
            "sensor_29               72         0.0\n",
            "sensor_30              261         0.1\n",
            "sensor_31               16         0.0\n",
            "sensor_32               68         0.0\n",
            "sensor_33               16         0.0\n",
            "sensor_34               16         0.0\n",
            "sensor_35               16         0.0\n",
            "sensor_36               16         0.0\n",
            "sensor_37               16         0.0\n",
            "sensor_38               27         0.0\n",
            "sensor_39               27         0.0\n",
            "sensor_40               27         0.0\n",
            "sensor_41               27         0.0\n",
            "sensor_42               27         0.0\n",
            "sensor_43               27         0.0\n",
            "sensor_44               27         0.0\n",
            "sensor_45               27         0.0\n",
            "sensor_46               27         0.0\n",
            "sensor_47               27         0.0\n",
            "sensor_48               27         0.0\n",
            "sensor_49               27         0.0\n",
            "sensor_50            77017        35.0\n",
            "sensor_51            15383         7.0\n",
            "machine_status           0         0.0\n"
          ]
        }
      ]
    },
    {
      "cell_type": "code",
      "source": [
        "# Encontrar o número de dias em que os dados foram coletados\n",
        "df.index.max() - df.index.min()"
      ],
      "metadata": {
        "colab": {
          "base_uri": "https://localhost:8080/"
        },
        "id": "VYQCLWPIKX7Y",
        "outputId": "703c9102-105d-4368-dc82-184a61323fae"
      },
      "execution_count": 12,
      "outputs": [
        {
          "output_type": "execute_result",
          "data": {
            "text/plain": [
              "Timedelta('152 days 23:59:00')"
            ]
          },
          "metadata": {},
          "execution_count": 12
        }
      ]
    },
    {
      "cell_type": "code",
      "source": [
        "# Verificar se não há duplicação no indice \n",
        "df.index.is_unique"
      ],
      "metadata": {
        "colab": {
          "base_uri": "https://localhost:8080/"
        },
        "id": "ILjR58nHKbmG",
        "outputId": "4075cafd-e1ad-4e32-f2e6-2bbb87f9e132"
      },
      "execution_count": 13,
      "outputs": [
        {
          "output_type": "execute_result",
          "data": {
            "text/plain": [
              "True"
            ]
          },
          "metadata": {},
          "execution_count": 13
        }
      ]
    },
    {
      "cell_type": "markdown",
      "source": [
        "## **Os dados iniciais mostram que existem 52 sensores (um por cada coluna) que registraram dados a cada 1 minuto. Possuindo 220320 registros, com isso, o presente conjunto de dados representa um período de 153 dias. Além disso, as medições têm escalas diferentes.**"
      ],
      "metadata": {
        "id": "8aod7SvlqCCq"
      }
    },
    {
      "cell_type": "code",
      "source": [
        "# Descartar coluna do sensor_50, sensor_51 e sensor_00 por apresentarem muitos valores NaN, e possuir porcentagem de nulos muito maiores que 2%\n",
        "df.drop(columns=['sensor_50','sensor_51','sensor_00'],inplace=True)"
      ],
      "metadata": {
        "id": "OhP8jdVbKgWC"
      },
      "execution_count": 14,
      "outputs": []
    },
    {
      "cell_type": "code",
      "source": [
        "missing_count= df.isnull().sum() # Exibe a quantidade de valores nulos \n",
        "value_count=df.isnull().count()\n",
        "missing_percentage=round(missing_count/value_count *100, 1) # Exibe o percentual de valores nulos\n",
        "missing_df= pd.DataFrame({\"Quantidade\": missing_count, \"Porcentagem\": missing_percentage})\n",
        "print(missing_df)"
      ],
      "metadata": {
        "colab": {
          "base_uri": "https://localhost:8080/"
        },
        "id": "QoWCYvBnKik6",
        "outputId": "48c4a6cd-acc6-4a07-84c7-fd9404c4449a"
      },
      "execution_count": 15,
      "outputs": [
        {
          "output_type": "stream",
          "name": "stdout",
          "text": [
            "                Quantidade  Porcentagem\n",
            "sensor_01              369          0.2\n",
            "sensor_02               19          0.0\n",
            "sensor_03               19          0.0\n",
            "sensor_04               19          0.0\n",
            "sensor_05               19          0.0\n",
            "sensor_06             4798          2.2\n",
            "sensor_07             5451          2.5\n",
            "sensor_08             5107          2.3\n",
            "sensor_09             4595          2.1\n",
            "sensor_10               19          0.0\n",
            "sensor_11               19          0.0\n",
            "sensor_12               19          0.0\n",
            "sensor_13               19          0.0\n",
            "sensor_14               21          0.0\n",
            "sensor_16               31          0.0\n",
            "sensor_17               46          0.0\n",
            "sensor_18               46          0.0\n",
            "sensor_19               16          0.0\n",
            "sensor_20               16          0.0\n",
            "sensor_21               16          0.0\n",
            "sensor_22               41          0.0\n",
            "sensor_23               16          0.0\n",
            "sensor_24               16          0.0\n",
            "sensor_25               36          0.0\n",
            "sensor_26               20          0.0\n",
            "sensor_27               16          0.0\n",
            "sensor_28               16          0.0\n",
            "sensor_29               72          0.0\n",
            "sensor_30              261          0.1\n",
            "sensor_31               16          0.0\n",
            "sensor_32               68          0.0\n",
            "sensor_33               16          0.0\n",
            "sensor_34               16          0.0\n",
            "sensor_35               16          0.0\n",
            "sensor_36               16          0.0\n",
            "sensor_37               16          0.0\n",
            "sensor_38               27          0.0\n",
            "sensor_39               27          0.0\n",
            "sensor_40               27          0.0\n",
            "sensor_41               27          0.0\n",
            "sensor_42               27          0.0\n",
            "sensor_43               27          0.0\n",
            "sensor_44               27          0.0\n",
            "sensor_45               27          0.0\n",
            "sensor_46               27          0.0\n",
            "sensor_47               27          0.0\n",
            "sensor_48               27          0.0\n",
            "sensor_49               27          0.0\n",
            "machine_status           0          0.0\n"
          ]
        }
      ]
    },
    {
      "cell_type": "markdown",
      "source": [
        "### **Foi realizado uma limpeza na tabela inicial, além do indice inicial \"Unnamed: 0\" a eliminação de sensores que possuiam um percentual bem maior que 2% de dados faltantes ou valores NaN(not a number), especificamente, os sensores: sensor_00, sensor_15, sensor_50 e sensor_51.**"
      ],
      "metadata": {
        "id": "sLgPiqgKreG-"
      }
    },
    {
      "cell_type": "markdown",
      "source": [
        "# **4 - Análise exploratória de dados**"
      ],
      "metadata": {
        "id": "-eanmleSH_uJ"
      }
    },
    {
      "cell_type": "code",
      "source": [
        "# Transformando machine_status de string para tipo inteiro \n",
        "conditions = [(df['machine_status'] =='NORMAL'), (df['machine_status'] =='BROKEN'), (df['machine_status'] =='RECOVERING')]\n",
        "choices = [1, 0, 2] # 3 OBSERVAÇÕES\n",
        "df['Operation'] = np.select(conditions, choices, default=0)"
      ],
      "metadata": {
        "id": "HLsmopevKigf"
      },
      "execution_count": 16,
      "outputs": []
    },
    {
      "cell_type": "code",
      "source": [
        "# Estatística básica do dataset\n",
        "df.describe()"
      ],
      "metadata": {
        "colab": {
          "base_uri": "https://localhost:8080/",
          "height": 394
        },
        "id": "DNwtjq-qKic3",
        "outputId": "67b80ab7-186d-4d11-e5a2-2c9f35b69a11"
      },
      "execution_count": 17,
      "outputs": [
        {
          "output_type": "execute_result",
          "data": {
            "text/plain": [
              "           sensor_01      sensor_02      sensor_03      sensor_04  \\\n",
              "count  219951.000000  220301.000000  220301.000000  220301.000000   \n",
              "mean       47.591611      50.867392      43.752481     590.673936   \n",
              "std         3.296666       3.666820       2.418887     144.023912   \n",
              "min         0.000000      33.159720      31.640620       2.798032   \n",
              "25%        46.310760      50.390620      42.838539     626.620400   \n",
              "50%        48.133678      51.649300      44.227428     632.638916   \n",
              "75%        49.479160      52.777770      45.312500     637.615723   \n",
              "max        56.727430      56.032990      48.220490     800.000000   \n",
              "\n",
              "           sensor_05      sensor_06      sensor_07      sensor_08  \\\n",
              "count  220301.000000  215522.000000  214869.000000  215213.000000   \n",
              "mean       73.396414      13.501537      15.843152      15.200721   \n",
              "std        17.298247       2.163736       2.201155       2.037390   \n",
              "min         0.000000       0.014468       0.000000       0.028935   \n",
              "25%        69.976260      13.346350      15.907120      15.183740   \n",
              "50%        75.576790      13.642940      16.167530      15.494790   \n",
              "75%        80.912150      14.539930      16.427950      15.697340   \n",
              "max        99.999880      22.251160      23.596640      24.348960   \n",
              "\n",
              "           sensor_09      sensor_10  ...      sensor_41      sensor_42  \\\n",
              "count  215725.000000  220301.000000  ...  220293.000000  220293.000000   \n",
              "mean       14.799210      41.470339  ...      35.365126      35.453455   \n",
              "std         2.091963      12.093519  ...       7.898665      10.259521   \n",
              "min         0.000000       0.000000  ...      20.833330      22.135416   \n",
              "25%        15.053530      40.705260  ...      32.552080      32.812500   \n",
              "50%        15.082470      44.291340  ...      34.895832      35.156250   \n",
              "75%        15.118630      47.463760  ...      37.760410      36.979164   \n",
              "max        25.000000      76.106860  ...     420.312500     374.218800   \n",
              "\n",
              "           sensor_43      sensor_44      sensor_45      sensor_46  \\\n",
              "count  220293.000000  220293.000000  220293.000000  220293.000000   \n",
              "mean       43.879591      42.656877      43.094984      48.018585   \n",
              "std        11.044404      11.576355      12.837520      15.641284   \n",
              "min        24.479166      25.752316      26.331018      26.331018   \n",
              "25%        39.583330      36.747684      36.747684      40.509258   \n",
              "50%        42.968750      40.509260      40.219910      44.849540   \n",
              "75%        46.614580      45.138890      44.849540      51.215280   \n",
              "max       408.593700    1000.000000     320.312500     370.370400   \n",
              "\n",
              "           sensor_47      sensor_48      sensor_49      Operation  \n",
              "count  220293.000000  220293.000000  220293.000000  220320.000000  \n",
              "mean       44.340903     150.889044      57.119968       1.065677  \n",
              "std        10.442437      82.244957      19.143598       0.247846  \n",
              "min        27.199070      26.331018      26.620370       0.000000  \n",
              "25%        39.062500      83.912030      47.743060       1.000000  \n",
              "50%        42.534720     138.020800      52.662040       1.000000  \n",
              "75%        46.585650     208.333300      60.763890       1.000000  \n",
              "max       303.530100     561.632000     464.409700       2.000000  \n",
              "\n",
              "[8 rows x 49 columns]"
            ],
            "text/html": [
              "\n",
              "  <div id=\"df-6348812e-c0e3-46d2-937a-5fc04411a499\">\n",
              "    <div class=\"colab-df-container\">\n",
              "      <div>\n",
              "<style scoped>\n",
              "    .dataframe tbody tr th:only-of-type {\n",
              "        vertical-align: middle;\n",
              "    }\n",
              "\n",
              "    .dataframe tbody tr th {\n",
              "        vertical-align: top;\n",
              "    }\n",
              "\n",
              "    .dataframe thead th {\n",
              "        text-align: right;\n",
              "    }\n",
              "</style>\n",
              "<table border=\"1\" class=\"dataframe\">\n",
              "  <thead>\n",
              "    <tr style=\"text-align: right;\">\n",
              "      <th></th>\n",
              "      <th>sensor_01</th>\n",
              "      <th>sensor_02</th>\n",
              "      <th>sensor_03</th>\n",
              "      <th>sensor_04</th>\n",
              "      <th>sensor_05</th>\n",
              "      <th>sensor_06</th>\n",
              "      <th>sensor_07</th>\n",
              "      <th>sensor_08</th>\n",
              "      <th>sensor_09</th>\n",
              "      <th>sensor_10</th>\n",
              "      <th>...</th>\n",
              "      <th>sensor_41</th>\n",
              "      <th>sensor_42</th>\n",
              "      <th>sensor_43</th>\n",
              "      <th>sensor_44</th>\n",
              "      <th>sensor_45</th>\n",
              "      <th>sensor_46</th>\n",
              "      <th>sensor_47</th>\n",
              "      <th>sensor_48</th>\n",
              "      <th>sensor_49</th>\n",
              "      <th>Operation</th>\n",
              "    </tr>\n",
              "  </thead>\n",
              "  <tbody>\n",
              "    <tr>\n",
              "      <th>count</th>\n",
              "      <td>219951.000000</td>\n",
              "      <td>220301.000000</td>\n",
              "      <td>220301.000000</td>\n",
              "      <td>220301.000000</td>\n",
              "      <td>220301.000000</td>\n",
              "      <td>215522.000000</td>\n",
              "      <td>214869.000000</td>\n",
              "      <td>215213.000000</td>\n",
              "      <td>215725.000000</td>\n",
              "      <td>220301.000000</td>\n",
              "      <td>...</td>\n",
              "      <td>220293.000000</td>\n",
              "      <td>220293.000000</td>\n",
              "      <td>220293.000000</td>\n",
              "      <td>220293.000000</td>\n",
              "      <td>220293.000000</td>\n",
              "      <td>220293.000000</td>\n",
              "      <td>220293.000000</td>\n",
              "      <td>220293.000000</td>\n",
              "      <td>220293.000000</td>\n",
              "      <td>220320.000000</td>\n",
              "    </tr>\n",
              "    <tr>\n",
              "      <th>mean</th>\n",
              "      <td>47.591611</td>\n",
              "      <td>50.867392</td>\n",
              "      <td>43.752481</td>\n",
              "      <td>590.673936</td>\n",
              "      <td>73.396414</td>\n",
              "      <td>13.501537</td>\n",
              "      <td>15.843152</td>\n",
              "      <td>15.200721</td>\n",
              "      <td>14.799210</td>\n",
              "      <td>41.470339</td>\n",
              "      <td>...</td>\n",
              "      <td>35.365126</td>\n",
              "      <td>35.453455</td>\n",
              "      <td>43.879591</td>\n",
              "      <td>42.656877</td>\n",
              "      <td>43.094984</td>\n",
              "      <td>48.018585</td>\n",
              "      <td>44.340903</td>\n",
              "      <td>150.889044</td>\n",
              "      <td>57.119968</td>\n",
              "      <td>1.065677</td>\n",
              "    </tr>\n",
              "    <tr>\n",
              "      <th>std</th>\n",
              "      <td>3.296666</td>\n",
              "      <td>3.666820</td>\n",
              "      <td>2.418887</td>\n",
              "      <td>144.023912</td>\n",
              "      <td>17.298247</td>\n",
              "      <td>2.163736</td>\n",
              "      <td>2.201155</td>\n",
              "      <td>2.037390</td>\n",
              "      <td>2.091963</td>\n",
              "      <td>12.093519</td>\n",
              "      <td>...</td>\n",
              "      <td>7.898665</td>\n",
              "      <td>10.259521</td>\n",
              "      <td>11.044404</td>\n",
              "      <td>11.576355</td>\n",
              "      <td>12.837520</td>\n",
              "      <td>15.641284</td>\n",
              "      <td>10.442437</td>\n",
              "      <td>82.244957</td>\n",
              "      <td>19.143598</td>\n",
              "      <td>0.247846</td>\n",
              "    </tr>\n",
              "    <tr>\n",
              "      <th>min</th>\n",
              "      <td>0.000000</td>\n",
              "      <td>33.159720</td>\n",
              "      <td>31.640620</td>\n",
              "      <td>2.798032</td>\n",
              "      <td>0.000000</td>\n",
              "      <td>0.014468</td>\n",
              "      <td>0.000000</td>\n",
              "      <td>0.028935</td>\n",
              "      <td>0.000000</td>\n",
              "      <td>0.000000</td>\n",
              "      <td>...</td>\n",
              "      <td>20.833330</td>\n",
              "      <td>22.135416</td>\n",
              "      <td>24.479166</td>\n",
              "      <td>25.752316</td>\n",
              "      <td>26.331018</td>\n",
              "      <td>26.331018</td>\n",
              "      <td>27.199070</td>\n",
              "      <td>26.331018</td>\n",
              "      <td>26.620370</td>\n",
              "      <td>0.000000</td>\n",
              "    </tr>\n",
              "    <tr>\n",
              "      <th>25%</th>\n",
              "      <td>46.310760</td>\n",
              "      <td>50.390620</td>\n",
              "      <td>42.838539</td>\n",
              "      <td>626.620400</td>\n",
              "      <td>69.976260</td>\n",
              "      <td>13.346350</td>\n",
              "      <td>15.907120</td>\n",
              "      <td>15.183740</td>\n",
              "      <td>15.053530</td>\n",
              "      <td>40.705260</td>\n",
              "      <td>...</td>\n",
              "      <td>32.552080</td>\n",
              "      <td>32.812500</td>\n",
              "      <td>39.583330</td>\n",
              "      <td>36.747684</td>\n",
              "      <td>36.747684</td>\n",
              "      <td>40.509258</td>\n",
              "      <td>39.062500</td>\n",
              "      <td>83.912030</td>\n",
              "      <td>47.743060</td>\n",
              "      <td>1.000000</td>\n",
              "    </tr>\n",
              "    <tr>\n",
              "      <th>50%</th>\n",
              "      <td>48.133678</td>\n",
              "      <td>51.649300</td>\n",
              "      <td>44.227428</td>\n",
              "      <td>632.638916</td>\n",
              "      <td>75.576790</td>\n",
              "      <td>13.642940</td>\n",
              "      <td>16.167530</td>\n",
              "      <td>15.494790</td>\n",
              "      <td>15.082470</td>\n",
              "      <td>44.291340</td>\n",
              "      <td>...</td>\n",
              "      <td>34.895832</td>\n",
              "      <td>35.156250</td>\n",
              "      <td>42.968750</td>\n",
              "      <td>40.509260</td>\n",
              "      <td>40.219910</td>\n",
              "      <td>44.849540</td>\n",
              "      <td>42.534720</td>\n",
              "      <td>138.020800</td>\n",
              "      <td>52.662040</td>\n",
              "      <td>1.000000</td>\n",
              "    </tr>\n",
              "    <tr>\n",
              "      <th>75%</th>\n",
              "      <td>49.479160</td>\n",
              "      <td>52.777770</td>\n",
              "      <td>45.312500</td>\n",
              "      <td>637.615723</td>\n",
              "      <td>80.912150</td>\n",
              "      <td>14.539930</td>\n",
              "      <td>16.427950</td>\n",
              "      <td>15.697340</td>\n",
              "      <td>15.118630</td>\n",
              "      <td>47.463760</td>\n",
              "      <td>...</td>\n",
              "      <td>37.760410</td>\n",
              "      <td>36.979164</td>\n",
              "      <td>46.614580</td>\n",
              "      <td>45.138890</td>\n",
              "      <td>44.849540</td>\n",
              "      <td>51.215280</td>\n",
              "      <td>46.585650</td>\n",
              "      <td>208.333300</td>\n",
              "      <td>60.763890</td>\n",
              "      <td>1.000000</td>\n",
              "    </tr>\n",
              "    <tr>\n",
              "      <th>max</th>\n",
              "      <td>56.727430</td>\n",
              "      <td>56.032990</td>\n",
              "      <td>48.220490</td>\n",
              "      <td>800.000000</td>\n",
              "      <td>99.999880</td>\n",
              "      <td>22.251160</td>\n",
              "      <td>23.596640</td>\n",
              "      <td>24.348960</td>\n",
              "      <td>25.000000</td>\n",
              "      <td>76.106860</td>\n",
              "      <td>...</td>\n",
              "      <td>420.312500</td>\n",
              "      <td>374.218800</td>\n",
              "      <td>408.593700</td>\n",
              "      <td>1000.000000</td>\n",
              "      <td>320.312500</td>\n",
              "      <td>370.370400</td>\n",
              "      <td>303.530100</td>\n",
              "      <td>561.632000</td>\n",
              "      <td>464.409700</td>\n",
              "      <td>2.000000</td>\n",
              "    </tr>\n",
              "  </tbody>\n",
              "</table>\n",
              "<p>8 rows × 49 columns</p>\n",
              "</div>\n",
              "      <button class=\"colab-df-convert\" onclick=\"convertToInteractive('df-6348812e-c0e3-46d2-937a-5fc04411a499')\"\n",
              "              title=\"Convert this dataframe to an interactive table.\"\n",
              "              style=\"display:none;\">\n",
              "        \n",
              "  <svg xmlns=\"http://www.w3.org/2000/svg\" height=\"24px\"viewBox=\"0 0 24 24\"\n",
              "       width=\"24px\">\n",
              "    <path d=\"M0 0h24v24H0V0z\" fill=\"none\"/>\n",
              "    <path d=\"M18.56 5.44l.94 2.06.94-2.06 2.06-.94-2.06-.94-.94-2.06-.94 2.06-2.06.94zm-11 1L8.5 8.5l.94-2.06 2.06-.94-2.06-.94L8.5 2.5l-.94 2.06-2.06.94zm10 10l.94 2.06.94-2.06 2.06-.94-2.06-.94-.94-2.06-.94 2.06-2.06.94z\"/><path d=\"M17.41 7.96l-1.37-1.37c-.4-.4-.92-.59-1.43-.59-.52 0-1.04.2-1.43.59L10.3 9.45l-7.72 7.72c-.78.78-.78 2.05 0 2.83L4 21.41c.39.39.9.59 1.41.59.51 0 1.02-.2 1.41-.59l7.78-7.78 2.81-2.81c.8-.78.8-2.07 0-2.86zM5.41 20L4 18.59l7.72-7.72 1.47 1.35L5.41 20z\"/>\n",
              "  </svg>\n",
              "      </button>\n",
              "      \n",
              "  <style>\n",
              "    .colab-df-container {\n",
              "      display:flex;\n",
              "      flex-wrap:wrap;\n",
              "      gap: 12px;\n",
              "    }\n",
              "\n",
              "    .colab-df-convert {\n",
              "      background-color: #E8F0FE;\n",
              "      border: none;\n",
              "      border-radius: 50%;\n",
              "      cursor: pointer;\n",
              "      display: none;\n",
              "      fill: #1967D2;\n",
              "      height: 32px;\n",
              "      padding: 0 0 0 0;\n",
              "      width: 32px;\n",
              "    }\n",
              "\n",
              "    .colab-df-convert:hover {\n",
              "      background-color: #E2EBFA;\n",
              "      box-shadow: 0px 1px 2px rgba(60, 64, 67, 0.3), 0px 1px 3px 1px rgba(60, 64, 67, 0.15);\n",
              "      fill: #174EA6;\n",
              "    }\n",
              "\n",
              "    [theme=dark] .colab-df-convert {\n",
              "      background-color: #3B4455;\n",
              "      fill: #D2E3FC;\n",
              "    }\n",
              "\n",
              "    [theme=dark] .colab-df-convert:hover {\n",
              "      background-color: #434B5C;\n",
              "      box-shadow: 0px 1px 3px 1px rgba(0, 0, 0, 0.15);\n",
              "      filter: drop-shadow(0px 1px 2px rgba(0, 0, 0, 0.3));\n",
              "      fill: #FFFFFF;\n",
              "    }\n",
              "  </style>\n",
              "\n",
              "      <script>\n",
              "        const buttonEl =\n",
              "          document.querySelector('#df-6348812e-c0e3-46d2-937a-5fc04411a499 button.colab-df-convert');\n",
              "        buttonEl.style.display =\n",
              "          google.colab.kernel.accessAllowed ? 'block' : 'none';\n",
              "\n",
              "        async function convertToInteractive(key) {\n",
              "          const element = document.querySelector('#df-6348812e-c0e3-46d2-937a-5fc04411a499');\n",
              "          const dataTable =\n",
              "            await google.colab.kernel.invokeFunction('convertToInteractive',\n",
              "                                                     [key], {});\n",
              "          if (!dataTable) return;\n",
              "\n",
              "          const docLinkHtml = 'Like what you see? Visit the ' +\n",
              "            '<a target=\"_blank\" href=https://colab.research.google.com/notebooks/data_table.ipynb>data table notebook</a>'\n",
              "            + ' to learn more about interactive tables.';\n",
              "          element.innerHTML = '';\n",
              "          dataTable['output_type'] = 'display_data';\n",
              "          await google.colab.output.renderOutput(dataTable, element);\n",
              "          const docLink = document.createElement('div');\n",
              "          docLink.innerHTML = docLinkHtml;\n",
              "          element.appendChild(docLink);\n",
              "        }\n",
              "      </script>\n",
              "    </div>\n",
              "  </div>\n",
              "  "
            ]
          },
          "metadata": {},
          "execution_count": 17
        }
      ]
    },
    {
      "cell_type": "code",
      "source": [
        "# Pegar colunas e linhas úteis\n",
        "sensor_cols = df.iloc[:,1:49]\n",
        "broken_rows = df[df['machine_status']=='BBROKEN']\n",
        "recovery_rows = df[df['machine_status']=='RECOVERING']\n",
        "normal_rows = df[df['machine_status']=='NORMAL']\n",
        "machine_status_col = df['machine_status']"
      ],
      "metadata": {
        "id": "8ZlXFUQZKiVX"
      },
      "execution_count": 18,
      "outputs": []
    },
    {
      "cell_type": "code",
      "source": [
        "fig, (ax1, ax2) = plt.subplots(ncols=2, figsize=(10,5))\n",
        "df.groupby('machine_status').size().plot(kind='bar', ax=ax1, color=['black', 'cornflowerblue', 'red'])\n",
        "df.groupby('machine_status').size().plot(kind='pie', ax=ax2, autopct='%.4f%%', colors=['black', 'cornflowerblue', 'red'])\n",
        "ax1.set_title('Status da máquina Barra')\n",
        "ax1.set_xlabel('')\n",
        "ax2.set_title('Status da máquina Pizza')\n",
        "ax2.set_ylabel('')\n",
        "plt.show()"
      ],
      "metadata": {
        "colab": {
          "base_uri": "https://localhost:8080/",
          "height": 391
        },
        "id": "PRX6kMroKiHJ",
        "outputId": "ae407977-8219-46ea-987f-1fe0a2eea291"
      },
      "execution_count": 19,
      "outputs": [
        {
          "output_type": "display_data",
          "data": {
            "text/plain": [
              "<Figure size 720x360 with 2 Axes>"
            ],
            "image/png": "[encoded data removed]"
          },
          "metadata": {}
        }
      ]
    },
    {
      "cell_type": "code",
      "source": [
        "df['machine_status'].value_counts()"
      ],
      "metadata": {
        "colab": {
          "base_uri": "https://localhost:8080/"
        },
        "id": "kyJa2uCS-vai",
        "outputId": "14a6fde0-f683-4086-813f-ab40e5a55bc2"
      },
      "execution_count": 20,
      "outputs": [
        {
          "output_type": "execute_result",
          "data": {
            "text/plain": [
              "NORMAL        205836\n",
              "RECOVERING     14477\n",
              "BROKEN             7\n",
              "Name: machine_status, dtype: int64"
            ]
          },
          "metadata": {},
          "execution_count": 20
        }
      ]
    },
    {
      "cell_type": "code",
      "source": [
        "# Plotando os sensores\n",
        "status = [(df['machine_status'] == 'NORMAL'), (df['machine_status'] == 'BROKEN'), (df['machine_status'] == 'RECOVERING')]\n",
        "label_encoding = [1, 0, 2]\n",
        "\n",
        "df['Operation'] = np.select(status, choices, default=0)\n",
        "df.plot(subplots=True, sharex=True, figsize=(20, 50))"
      ],
      "metadata": {
        "colab": {
          "base_uri": "https://localhost:8080/"
        },
        "id": "5F0KrPHRKtNH",
        "outputId": "a8cd005f-1c21-4688-b363-d8d37b2b1ebd"
      },
      "execution_count": null,
      "outputs": [
        {
          "output_type": "execute_result",
          "data": {
            "text/plain": [
              "array([<AxesSubplot:xlabel='timestamp'>, <AxesSubplot:xlabel='timestamp'>,\n",
              "       <AxesSubplot:xlabel='timestamp'>, <AxesSubplot:xlabel='timestamp'>,\n",
              "       <AxesSubplot:xlabel='timestamp'>, <AxesSubplot:xlabel='timestamp'>,\n",
              "       <AxesSubplot:xlabel='timestamp'>, <AxesSubplot:xlabel='timestamp'>,\n",
              "       <AxesSubplot:xlabel='timestamp'>, <AxesSubplot:xlabel='timestamp'>,\n",
              "       <AxesSubplot:xlabel='timestamp'>, <AxesSubplot:xlabel='timestamp'>,\n",
              "       <AxesSubplot:xlabel='timestamp'>, <AxesSubplot:xlabel='timestamp'>,\n",
              "       <AxesSubplot:xlabel='timestamp'>, <AxesSubplot:xlabel='timestamp'>,\n",
              "       <AxesSubplot:xlabel='timestamp'>, <AxesSubplot:xlabel='timestamp'>,\n",
              "       <AxesSubplot:xlabel='timestamp'>, <AxesSubplot:xlabel='timestamp'>,\n",
              "       <AxesSubplot:xlabel='timestamp'>, <AxesSubplot:xlabel='timestamp'>,\n",
              "       <AxesSubplot:xlabel='timestamp'>, <AxesSubplot:xlabel='timestamp'>,\n",
              "       <AxesSubplot:xlabel='timestamp'>, <AxesSubplot:xlabel='timestamp'>,\n",
              "       <AxesSubplot:xlabel='timestamp'>, <AxesSubplot:xlabel='timestamp'>,\n",
              "       <AxesSubplot:xlabel='timestamp'>, <AxesSubplot:xlabel='timestamp'>,\n",
              "       <AxesSubplot:xlabel='timestamp'>, <AxesSubplot:xlabel='timestamp'>,\n",
              "       <AxesSubplot:xlabel='timestamp'>, <AxesSubplot:xlabel='timestamp'>,\n",
              "       <AxesSubplot:xlabel='timestamp'>, <AxesSubplot:xlabel='timestamp'>,\n",
              "       <AxesSubplot:xlabel='timestamp'>, <AxesSubplot:xlabel='timestamp'>,\n",
              "       <AxesSubplot:xlabel='timestamp'>, <AxesSubplot:xlabel='timestamp'>,\n",
              "       <AxesSubplot:xlabel='timestamp'>, <AxesSubplot:xlabel='timestamp'>,\n",
              "       <AxesSubplot:xlabel='timestamp'>, <AxesSubplot:xlabel='timestamp'>,\n",
              "       <AxesSubplot:xlabel='timestamp'>, <AxesSubplot:xlabel='timestamp'>,\n",
              "       <AxesSubplot:xlabel='timestamp'>, <AxesSubplot:xlabel='timestamp'>,\n",
              "       <AxesSubplot:xlabel='timestamp'>], dtype=object)"
            ]
          },
          "metadata": {},
          "execution_count": 21
        }
      ]
    },
    {
      "cell_type": "markdown",
      "source": [
        "## **Como pode ser visto existem padrões sendo capturado pelos sensores, por exemplo: (1,2,3), (4,5,6,7,8,9), (10,11,12), (14,16,17,18), (19,20,21,22,23,24), (25,26,28,29,30,31,32,33), (34,35), (38,39,40,41,42,43,45,46,47). Por sua vez, há sinais que são muito ruidosos e parecem não seguir nenhuma tendência em particular.** "
      ],
      "metadata": {
        "id": "KEbKCfEo9e8D"
      }
    },
    {
      "cell_type": "code",
      "source": [
        "# considere que o sensor estava tendo um problema e está dando a mesma leitura para essas etapas de tempo\n",
        "df.fillna(method = 'ffill' , inplace = True)"
      ],
      "metadata": {
        "id": "cQ3KahIZKtJq"
      },
      "execution_count": null,
      "outputs": []
    },
    {
      "cell_type": "code",
      "source": [
        "# Verificando novamente os valores ausentes para garantir\n",
        "missing_count= df.isnull().sum() # count the number of missing values\n",
        "value_count=df.isnull().count()\n",
        "missing_percentage=round(missing_count/value_count *100, 1) # Percentual de valores faltantes\n",
        "missing_df= pd.DataFrame({\"count\": missing_count, \"percentage\": missing_percentage})\n",
        "print(missing_df)"
      ],
      "metadata": {
        "id": "Rxn0SKt5KtFX"
      },
      "execution_count": null,
      "outputs": []
    },
    {
      "cell_type": "code",
      "source": [
        "# verificando se os status não são todos do mesmo valor\n",
        "df.machine_status.unique() "
      ],
      "metadata": {
        "id": "1JZkLlLTKtAP"
      },
      "execution_count": null,
      "outputs": []
    },
    {
      "cell_type": "code",
      "source": [
        "# Analisando uma estatística básica novamente\n",
        "df.describe()"
      ],
      "metadata": {
        "id": "hNzGku28Ks2k"
      },
      "execution_count": null,
      "outputs": []
    }
  ]
}